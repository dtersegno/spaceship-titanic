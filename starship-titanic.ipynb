{
 "cells": [
  {
   "cell_type": "markdown",
   "id": "42ac6f73",
   "metadata": {},
   "source": [
    "Spaceship Titanic\n",
    "---\n",
    "\n",
    "[Kaggle Competition](https://www.kaggle.com/competitions/spaceship-titanic)\n",
    "\n",
    ">Welcome to the year 2912, where your data science skills are needed to solve a cosmic mystery. We've received a transmission from four lightyears away and things aren't looking good.\n",
    "\n",
    ">The Spaceship Titanic was an interstellar passenger liner launched a month ago. With almost 13,000 passengers on board, the vessel set out on its maiden voyage transporting emigrants from our solar system to three newly habitable exoplanets orbiting nearby stars.\n",
    "\n",
    ">While rounding Alpha Centauri en route to its first destination—the torrid 55 Cancri E—the unwary Spaceship Titanic collided with a spacetime anomaly hidden within a dust cloud. Sadly, it met a similar fate as its namesake from 1000 years before. Though the ship stayed intact, almost half of the passengers were transported to an alternate dimension!\n",
    "\n",
    "\n",
    "\n",
    ">To help rescue crews and retrieve the lost passengers, you are challenged to predict which passengers were transported by the anomaly using records recovered from the spaceship’s damaged computer system.\n",
    "\n",
    ">Help save them and change history!\n",
    "\n",
    "\n",
    ">Submissions are evaluated based on their classification accuracy, the percentage of predicted labels that are correct.\n",
    "\n",
    ">Submission Format\n",
    ">The submission format for the competition is a csv file with the following format:\n",
    "\n",
    "| PassengerId | Transported |\n",
    "| --- | --- |\n",
    "|0013_01|False|\n",
    "|0018_01|False|\n",
    "|0019_01|False|\n",
    "|0021_01|False|\n",
    "etc.\n",
    "\n",
    "\n",
    "File and Data Field Descriptions\n",
    "---\n",
    "### `train.csv` \n",
    "Personal records for about two-thirds (~8700) of the passengers, to be used as training data.\n",
    "\n",
    "`PassengerId` - A unique Id for each passenger. Each Id takes the form gggg_pp where gggg indicates a group the passenger is travelling with and pp is their number within the group. People in a group are often family members, but not always.\n",
    "\n",
    "`HomePlanet` - The planet the passenger departed from, typically their planet of permanent residence.\n",
    "\n",
    "`CryoSleep` - Indicates whether the passenger elected to be put into suspended animation for the duration of the voyage. Passengers in cryosleep are confined to their cabins.\n",
    "\n",
    "`Cabin` - The cabin number where the passenger is staying. Takes the form deck/num/side, where side can be either P for Port or S for Starboard.\n",
    "\n",
    "`Destination` - The planet the passenger will be debarking to.\n",
    "\n",
    "`Age` - The age of the passenger.\n",
    "\n",
    "`VIP` - Whether the passenger has paid for special VIP service during the voyage.\n",
    "\n",
    "`RoomService, FoodCourt, ShoppingMall, Spa, VRDeck` - Amount the passenger has billed at each of the Spaceship Titanic's many luxury amenities.\n",
    "\n",
    "`Name` - The first and last names of the passenger.\n",
    "\n",
    "`Transported` - Whether the passenger was transported to another dimension. This is the target, the column you are trying to predict.\n",
    "\n",
    "---\n",
    "### `test.csv` \n",
    "Personal records for the remaining one-third (~4300) of the passengers, to be used as test data. Your task is to predict the value of Transported for the passengers in this set.\n",
    "\n",
    "---\n",
    "### `sample_submission.csv`\n",
    "A submission file in the correct format.\n",
    "\n",
    "`PassengerId` - Id for each passenger in the test set.\n",
    "\n",
    "`Transported` - The target. For each passenger, predict either True or False."
   ]
  },
  {
   "cell_type": "code",
   "execution_count": 375,
   "id": "3e38c2d0",
   "metadata": {},
   "outputs": [],
   "source": [
    "import pandas as pd\n",
    "import numpy as np\n",
    "\n",
    "import matplotlib.pyplot as plt\n",
    "import seaborn as sns\n",
    "\n",
    "plt.style.use('dark_background')\n",
    "\n",
    "pd.options.display.max_columns = 30\n",
    "\n",
    "import tensorflow as tf\n",
    "import keras"
   ]
  },
  {
   "cell_type": "code",
   "execution_count": 378,
   "id": "247c1e55",
   "metadata": {},
   "outputs": [],
   "source": [
    "#import data\n",
    "data_directory = './data/'\n",
    "\n",
    "df_train = pd.read_csv(data_directory + 'train.csv')\n",
    "df_train.set_index('PassengerId', inplace=True, drop = False)\n",
    "df_test = pd.read_csv( data_directory + 'test.csv')\n",
    "df_test.set_index('PassengerId', inplace=True, drop = False)\n",
    "df_example = pd.read_csv(data_directory + 'sample_submission.csv')\n",
    "df = pd.concat([df_train, df_test], ignore_index=True)\n",
    "df.set_index('PassengerId', inplace = True, drop = False)"
   ]
  },
  {
   "cell_type": "code",
   "execution_count": 379,
   "id": "e233184b",
   "metadata": {},
   "outputs": [
    {
     "data": {
      "text/html": [
       "<div>\n",
       "<style scoped>\n",
       "    .dataframe tbody tr th:only-of-type {\n",
       "        vertical-align: middle;\n",
       "    }\n",
       "\n",
       "    .dataframe tbody tr th {\n",
       "        vertical-align: top;\n",
       "    }\n",
       "\n",
       "    .dataframe thead th {\n",
       "        text-align: right;\n",
       "    }\n",
       "</style>\n",
       "<table border=\"1\" class=\"dataframe\">\n",
       "  <thead>\n",
       "    <tr style=\"text-align: right;\">\n",
       "      <th></th>\n",
       "      <th>PassengerId</th>\n",
       "      <th>HomePlanet</th>\n",
       "      <th>CryoSleep</th>\n",
       "      <th>Cabin</th>\n",
       "      <th>Destination</th>\n",
       "      <th>Age</th>\n",
       "      <th>VIP</th>\n",
       "      <th>RoomService</th>\n",
       "      <th>FoodCourt</th>\n",
       "      <th>ShoppingMall</th>\n",
       "      <th>Spa</th>\n",
       "      <th>VRDeck</th>\n",
       "      <th>Name</th>\n",
       "      <th>Transported</th>\n",
       "    </tr>\n",
       "    <tr>\n",
       "      <th>PassengerId</th>\n",
       "      <th></th>\n",
       "      <th></th>\n",
       "      <th></th>\n",
       "      <th></th>\n",
       "      <th></th>\n",
       "      <th></th>\n",
       "      <th></th>\n",
       "      <th></th>\n",
       "      <th></th>\n",
       "      <th></th>\n",
       "      <th></th>\n",
       "      <th></th>\n",
       "      <th></th>\n",
       "      <th></th>\n",
       "    </tr>\n",
       "  </thead>\n",
       "  <tbody>\n",
       "    <tr>\n",
       "      <th>0001_01</th>\n",
       "      <td>0001_01</td>\n",
       "      <td>Europa</td>\n",
       "      <td>False</td>\n",
       "      <td>B/0/P</td>\n",
       "      <td>TRAPPIST-1e</td>\n",
       "      <td>39.0</td>\n",
       "      <td>False</td>\n",
       "      <td>0.0</td>\n",
       "      <td>0.0</td>\n",
       "      <td>0.0</td>\n",
       "      <td>0.0</td>\n",
       "      <td>0.0</td>\n",
       "      <td>Maham Ofracculy</td>\n",
       "      <td>False</td>\n",
       "    </tr>\n",
       "    <tr>\n",
       "      <th>0002_01</th>\n",
       "      <td>0002_01</td>\n",
       "      <td>Earth</td>\n",
       "      <td>False</td>\n",
       "      <td>F/0/S</td>\n",
       "      <td>TRAPPIST-1e</td>\n",
       "      <td>24.0</td>\n",
       "      <td>False</td>\n",
       "      <td>109.0</td>\n",
       "      <td>9.0</td>\n",
       "      <td>25.0</td>\n",
       "      <td>549.0</td>\n",
       "      <td>44.0</td>\n",
       "      <td>Juanna Vines</td>\n",
       "      <td>True</td>\n",
       "    </tr>\n",
       "    <tr>\n",
       "      <th>0003_01</th>\n",
       "      <td>0003_01</td>\n",
       "      <td>Europa</td>\n",
       "      <td>False</td>\n",
       "      <td>A/0/S</td>\n",
       "      <td>TRAPPIST-1e</td>\n",
       "      <td>58.0</td>\n",
       "      <td>True</td>\n",
       "      <td>43.0</td>\n",
       "      <td>3576.0</td>\n",
       "      <td>0.0</td>\n",
       "      <td>6715.0</td>\n",
       "      <td>49.0</td>\n",
       "      <td>Altark Susent</td>\n",
       "      <td>False</td>\n",
       "    </tr>\n",
       "    <tr>\n",
       "      <th>0003_02</th>\n",
       "      <td>0003_02</td>\n",
       "      <td>Europa</td>\n",
       "      <td>False</td>\n",
       "      <td>A/0/S</td>\n",
       "      <td>TRAPPIST-1e</td>\n",
       "      <td>33.0</td>\n",
       "      <td>False</td>\n",
       "      <td>0.0</td>\n",
       "      <td>1283.0</td>\n",
       "      <td>371.0</td>\n",
       "      <td>3329.0</td>\n",
       "      <td>193.0</td>\n",
       "      <td>Solam Susent</td>\n",
       "      <td>False</td>\n",
       "    </tr>\n",
       "    <tr>\n",
       "      <th>0004_01</th>\n",
       "      <td>0004_01</td>\n",
       "      <td>Earth</td>\n",
       "      <td>False</td>\n",
       "      <td>F/1/S</td>\n",
       "      <td>TRAPPIST-1e</td>\n",
       "      <td>16.0</td>\n",
       "      <td>False</td>\n",
       "      <td>303.0</td>\n",
       "      <td>70.0</td>\n",
       "      <td>151.0</td>\n",
       "      <td>565.0</td>\n",
       "      <td>2.0</td>\n",
       "      <td>Willy Santantines</td>\n",
       "      <td>True</td>\n",
       "    </tr>\n",
       "  </tbody>\n",
       "</table>\n",
       "</div>"
      ],
      "text/plain": [
       "            PassengerId HomePlanet CryoSleep  Cabin  Destination   Age    VIP  \\\n",
       "PassengerId                                                                     \n",
       "0001_01         0001_01     Europa     False  B/0/P  TRAPPIST-1e  39.0  False   \n",
       "0002_01         0002_01      Earth     False  F/0/S  TRAPPIST-1e  24.0  False   \n",
       "0003_01         0003_01     Europa     False  A/0/S  TRAPPIST-1e  58.0   True   \n",
       "0003_02         0003_02     Europa     False  A/0/S  TRAPPIST-1e  33.0  False   \n",
       "0004_01         0004_01      Earth     False  F/1/S  TRAPPIST-1e  16.0  False   \n",
       "\n",
       "             RoomService  FoodCourt  ShoppingMall     Spa  VRDeck  \\\n",
       "PassengerId                                                         \n",
       "0001_01              0.0        0.0           0.0     0.0     0.0   \n",
       "0002_01            109.0        9.0          25.0   549.0    44.0   \n",
       "0003_01             43.0     3576.0           0.0  6715.0    49.0   \n",
       "0003_02              0.0     1283.0         371.0  3329.0   193.0   \n",
       "0004_01            303.0       70.0         151.0   565.0     2.0   \n",
       "\n",
       "                          Name Transported  \n",
       "PassengerId                                 \n",
       "0001_01        Maham Ofracculy       False  \n",
       "0002_01           Juanna Vines        True  \n",
       "0003_01          Altark Susent       False  \n",
       "0003_02           Solam Susent       False  \n",
       "0004_01      Willy Santantines        True  "
      ]
     },
     "execution_count": 379,
     "metadata": {},
     "output_type": "execute_result"
    }
   ],
   "source": [
    "df.head()"
   ]
  },
  {
   "cell_type": "code",
   "execution_count": 6,
   "id": "a080ad53",
   "metadata": {},
   "outputs": [
    {
     "name": "stdout",
     "output_type": "stream",
     "text": [
      "<class 'pandas.core.frame.DataFrame'>\n",
      "RangeIndex: 12970 entries, 0 to 12969\n",
      "Data columns (total 14 columns):\n",
      " #   Column        Non-Null Count  Dtype  \n",
      "---  ------        --------------  -----  \n",
      " 0   PassengerId   12970 non-null  object \n",
      " 1   HomePlanet    12682 non-null  object \n",
      " 2   CryoSleep     12660 non-null  object \n",
      " 3   Cabin         12671 non-null  object \n",
      " 4   Destination   12696 non-null  object \n",
      " 5   Age           12700 non-null  float64\n",
      " 6   VIP           12674 non-null  object \n",
      " 7   RoomService   12707 non-null  float64\n",
      " 8   FoodCourt     12681 non-null  float64\n",
      " 9   ShoppingMall  12664 non-null  float64\n",
      " 10  Spa           12686 non-null  float64\n",
      " 11  VRDeck        12702 non-null  float64\n",
      " 12  Name          12676 non-null  object \n",
      " 13  Transported   8693 non-null   object \n",
      "dtypes: float64(6), object(8)\n",
      "memory usage: 1.4+ MB\n"
     ]
    }
   ],
   "source": [
    "df.info()"
   ]
  },
  {
   "cell_type": "markdown",
   "id": "e01cfb08",
   "metadata": {},
   "source": [
    "---\n",
    "# PassengerID\n",
    "\n",
    "> A unique Id for each passenger. Each Id takes the form gggg_pp where gggg indicates a group the passenger is travelling with and pp is their number within the group. People in a group are often family members, but not always."
   ]
  },
  {
   "cell_type": "code",
   "execution_count": 7,
   "id": "0c17f19c",
   "metadata": {},
   "outputs": [
    {
     "data": {
      "text/plain": [
       "0"
      ]
     },
     "execution_count": 7,
     "metadata": {},
     "output_type": "execute_result"
    }
   ],
   "source": [
    "#no duplicate ids\n",
    "df['PassengerId'].duplicated().sum()"
   ]
  },
  {
   "cell_type": "code",
   "execution_count": 8,
   "id": "c0d3e081",
   "metadata": {},
   "outputs": [
    {
     "data": {
      "text/plain": [
       "0"
      ]
     },
     "execution_count": 8,
     "metadata": {},
     "output_type": "execute_result"
    }
   ],
   "source": [
    "#no null ids\n",
    "df['PassengerId'].isna().sum()"
   ]
  },
  {
   "cell_type": "code",
   "execution_count": 9,
   "id": "7255e873",
   "metadata": {},
   "outputs": [],
   "source": [
    "# do all ids adhere to the format gggg_pp\n",
    "df['PassengerId_format_ok'] = df['PassengerId'].apply(lambda this_id: int(this_id[:4]) < 10000 and int(this_id[-2:]) < 100 and this_id[4] == '_')"
   ]
  },
  {
   "cell_type": "code",
   "execution_count": 10,
   "id": "2452356f",
   "metadata": {},
   "outputs": [
    {
     "data": {
      "text/plain": [
       "True    12970\n",
       "Name: PassengerId_format_ok, dtype: int64"
      ]
     },
     "execution_count": 10,
     "metadata": {},
     "output_type": "execute_result"
    }
   ],
   "source": [
    "#all Ids are good.\n",
    "df['PassengerId_format_ok'].value_counts()"
   ]
  },
  {
   "cell_type": "code",
   "execution_count": 11,
   "id": "dff9e912",
   "metadata": {},
   "outputs": [],
   "source": [
    "#make column for passenger group\n",
    "df['Group'] = df['PassengerId'].apply(lambda this_id: int(this_id[:4]))"
   ]
  },
  {
   "cell_type": "code",
   "execution_count": 12,
   "id": "44e0452b",
   "metadata": {},
   "outputs": [],
   "source": [
    "#make column for passenger number in group\n",
    "df['GroupRank'] = df['PassengerId'].apply(lambda this_id: this_id[-2:])"
   ]
  },
  {
   "cell_type": "markdown",
   "id": "de842d36",
   "metadata": {},
   "source": [
    "### Group"
   ]
  },
  {
   "cell_type": "code",
   "execution_count": 13,
   "id": "360abc51",
   "metadata": {
    "scrolled": true
   },
   "outputs": [
    {
     "data": {
      "text/plain": [
       "<BarContainer object of 8 artists>"
      ]
     },
     "execution_count": 13,
     "metadata": {},
     "output_type": "execute_result"
    },
    {
     "data": {
      "image/png": "[encoded data removed]",
      "text/plain": [
       "<Figure size 864x432 with 1 Axes>"
      ]
     },
     "metadata": {},
     "output_type": "display_data"
    }
   ],
   "source": [
    "#group sizes\n",
    "group_value_counts = df['Group'].value_counts()\n",
    "df['GroupSize'] = df['Group'].apply(lambda this_group: int(group_value_counts[this_group]) )\n",
    "\n",
    "plt.figure(figsize = (12,6))\n",
    "plt.title('passenger group sizes')\n",
    "plt.xlabel('size of group')\n",
    "plt.ylabel('number of groups')\n",
    "sizes = df['Group'].value_counts().value_counts().values\n",
    "plt.bar(height = sizes, x= range(1,9), log = True)"
   ]
  },
  {
   "cell_type": "code",
   "execution_count": 14,
   "id": "78d92249",
   "metadata": {
    "scrolled": false
   },
   "outputs": [
    {
     "data": {
      "text/html": [
       "<div>\n",
       "<style scoped>\n",
       "    .dataframe tbody tr th:only-of-type {\n",
       "        vertical-align: middle;\n",
       "    }\n",
       "\n",
       "    .dataframe tbody tr th {\n",
       "        vertical-align: top;\n",
       "    }\n",
       "\n",
       "    .dataframe thead th {\n",
       "        text-align: right;\n",
       "    }\n",
       "</style>\n",
       "<table border=\"1\" class=\"dataframe\">\n",
       "  <thead>\n",
       "    <tr style=\"text-align: right;\">\n",
       "      <th></th>\n",
       "      <th>Group</th>\n",
       "      <th>GroupSize</th>\n",
       "    </tr>\n",
       "  </thead>\n",
       "  <tbody>\n",
       "    <tr>\n",
       "      <th>Group</th>\n",
       "      <td>1.000000</td>\n",
       "      <td>0.007881</td>\n",
       "    </tr>\n",
       "    <tr>\n",
       "      <th>GroupSize</th>\n",
       "      <td>0.007881</td>\n",
       "      <td>1.000000</td>\n",
       "    </tr>\n",
       "  </tbody>\n",
       "</table>\n",
       "</div>"
      ],
      "text/plain": [
       "              Group  GroupSize\n",
       "Group      1.000000   0.007881\n",
       "GroupSize  0.007881   1.000000"
      ]
     },
     "execution_count": 14,
     "metadata": {},
     "output_type": "execute_result"
    }
   ],
   "source": [
    "# how are groups numbered?\n",
    "group_size_corr = df[['Group', \"GroupSize\"]].corr()\n",
    "group_size_corr"
   ]
  },
  {
   "cell_type": "markdown",
   "id": "671a2318",
   "metadata": {},
   "source": [
    "The group size is not related to the group number."
   ]
  },
  {
   "cell_type": "code",
   "execution_count": 15,
   "id": "2e038ca6",
   "metadata": {
    "scrolled": false
   },
   "outputs": [
    {
     "data": {
      "text/plain": [
       "<AxesSubplot:xlabel='Group', ylabel='GroupSize'>"
      ]
     },
     "execution_count": 15,
     "metadata": {},
     "output_type": "execute_result"
    },
    {
     "data": {
      "image/png": "[encoded data removed]",
      "text/plain": [
       "<Figure size 432x288 with 1 Axes>"
      ]
     },
     "metadata": {},
     "output_type": "display_data"
    }
   ],
   "source": [
    "#group size with group number scatter\n",
    "df.plot(x = 'Group', y = 'GroupSize', kind = 'scatter')"
   ]
  },
  {
   "cell_type": "code",
   "execution_count": 16,
   "id": "a6b279f9",
   "metadata": {
    "scrolled": true
   },
   "outputs": [
    {
     "data": {
      "text/plain": [
       "Text(0.5, 1.0, 'group number with index')"
      ]
     },
     "execution_count": 16,
     "metadata": {},
     "output_type": "execute_result"
    },
    {
     "data": {
      "image/png": "[encoded data removed]",
      "text/plain": [
       "<Figure size 432x288 with 1 Axes>"
      ]
     },
     "metadata": {},
     "output_type": "display_data"
    }
   ],
   "source": [
    "df['Group'].plot()\n",
    "plt.xlabel(\"Index\")\n",
    "plt.ylabel('Group number')\n",
    "plt.title(\"group number with index\")"
   ]
  },
  {
   "cell_type": "markdown",
   "id": "f9041d5d",
   "metadata": {},
   "source": [
    "Passenger indices appear to be assigned by group number. The second ramp is the test set."
   ]
  },
  {
   "cell_type": "markdown",
   "id": "527bed18",
   "metadata": {},
   "source": [
    "### GroupRank\n",
    "The majority of groups are single passengers."
   ]
  },
  {
   "cell_type": "code",
   "execution_count": 17,
   "id": "a33d5c27",
   "metadata": {
    "scrolled": true
   },
   "outputs": [
    {
     "data": {
      "image/png": "[encoded data removed]",
      "text/plain": [
       "<Figure size 432x288 with 1 Axes>"
      ]
     },
     "metadata": {},
     "output_type": "display_data"
    }
   ],
   "source": [
    "#make grouprank a number\n",
    "df['GroupRank'] = df['GroupRank'].apply(lambda this_rank: int(this_rank))\n",
    "df['GroupRank'].hist(log = True);"
   ]
  },
  {
   "cell_type": "code",
   "execution_count": 18,
   "id": "25c1c2f6",
   "metadata": {},
   "outputs": [
    {
     "data": {
      "text/plain": [
       "1    0.715497\n",
       "2    0.164611\n",
       "3    0.064765\n",
       "4    0.026060\n",
       "5    0.014187\n",
       "6    0.008327\n",
       "7    0.005089\n",
       "8    0.001465\n",
       "Name: GroupRank, dtype: float64"
      ]
     },
     "execution_count": 18,
     "metadata": {},
     "output_type": "execute_result"
    }
   ],
   "source": [
    "df['GroupRank'].value_counts('normdsa')"
   ]
  },
  {
   "cell_type": "markdown",
   "id": "2e48fac6",
   "metadata": {},
   "source": [
    "---\n",
    "# HomePlanet"
   ]
  },
  {
   "cell_type": "code",
   "execution_count": 19,
   "id": "f610ccec",
   "metadata": {
    "scrolled": true
   },
   "outputs": [
    {
     "data": {
      "text/plain": [
       "Earth     0.541318\n",
       "Europa    0.247043\n",
       "Mars      0.211639\n",
       "Name: HomePlanet, dtype: float64"
      ]
     },
     "execution_count": 19,
     "metadata": {},
     "output_type": "execute_result"
    }
   ],
   "source": [
    "df['HomePlanet'].value_counts('n')"
   ]
  },
  {
   "cell_type": "markdown",
   "id": "1a93243c",
   "metadata": {},
   "source": [
    "### CryoSleep by HomePlanet\n",
    "Europans, then Martians, then Terrans are order of most likely to be in cryosleep."
   ]
  },
  {
   "cell_type": "code",
   "execution_count": 20,
   "id": "8b2d858c",
   "metadata": {
    "scrolled": false
   },
   "outputs": [
    {
     "data": {
      "text/plain": [
       "False    0.691137\n",
       "True     0.308863\n",
       "Name: CryoSleep, dtype: float64"
      ]
     },
     "execution_count": 20,
     "metadata": {},
     "output_type": "execute_result"
    }
   ],
   "source": [
    "df[df['HomePlanet'] == 'Earth']['CryoSleep'].value_counts('n')"
   ]
  },
  {
   "cell_type": "code",
   "execution_count": 21,
   "id": "84ed7205",
   "metadata": {
    "scrolled": true
   },
   "outputs": [
    {
     "data": {
      "text/plain": [
       "False    0.549803\n",
       "True     0.450197\n",
       "Name: CryoSleep, dtype: float64"
      ]
     },
     "execution_count": 21,
     "metadata": {},
     "output_type": "execute_result"
    }
   ],
   "source": [
    "df[df['HomePlanet'] == 'Europa']['CryoSleep'].value_counts('n')"
   ]
  },
  {
   "cell_type": "code",
   "execution_count": 22,
   "id": "a3a27085",
   "metadata": {
    "scrolled": false
   },
   "outputs": [
    {
     "data": {
      "text/plain": [
       "False    0.605795\n",
       "True     0.394205\n",
       "Name: CryoSleep, dtype: float64"
      ]
     },
     "execution_count": 22,
     "metadata": {},
     "output_type": "execute_result"
    }
   ],
   "source": [
    "df[df['HomePlanet'] == 'Mars']['CryoSleep'].value_counts('n')"
   ]
  },
  {
   "cell_type": "markdown",
   "id": "05ea7143",
   "metadata": {},
   "source": [
    "### VIP by HomePlanet\n",
    "\n",
    "No VIPs come from Earth. About twice as many from Europa as Mars."
   ]
  },
  {
   "cell_type": "code",
   "execution_count": 23,
   "id": "f31a5ecc",
   "metadata": {
    "scrolled": true
   },
   "outputs": [
    {
     "data": {
      "text/plain": [
       "0.0"
      ]
     },
     "execution_count": 23,
     "metadata": {},
     "output_type": "execute_result"
    }
   ],
   "source": [
    "df[df['HomePlanet'] == 'Earth']['VIP'].mean()"
   ]
  },
  {
   "cell_type": "code",
   "execution_count": 24,
   "id": "fb99db40",
   "metadata": {},
   "outputs": [
    {
     "data": {
      "text/plain": [
       "0.05784313725490196"
      ]
     },
     "execution_count": 24,
     "metadata": {},
     "output_type": "execute_result"
    }
   ],
   "source": [
    "df[df['HomePlanet'] == 'Europa']['VIP'].mean()"
   ]
  },
  {
   "cell_type": "code",
   "execution_count": 25,
   "id": "f2beaea3",
   "metadata": {},
   "outputs": [
    {
     "data": {
      "text/plain": [
       "0.03431185665268776"
      ]
     },
     "execution_count": 25,
     "metadata": {},
     "output_type": "execute_result"
    }
   ],
   "source": [
    "df[df['HomePlanet'] == 'Mars']['VIP'].mean()"
   ]
  },
  {
   "cell_type": "markdown",
   "id": "0c842367",
   "metadata": {},
   "source": [
    "# CryoSleep"
   ]
  },
  {
   "cell_type": "code",
   "execution_count": 26,
   "id": "801dc15c",
   "metadata": {},
   "outputs": [
    {
     "data": {
      "text/plain": [
       "False    0.638152\n",
       "True     0.361848\n",
       "Name: CryoSleep, dtype: float64"
      ]
     },
     "execution_count": 26,
     "metadata": {},
     "output_type": "execute_result"
    }
   ],
   "source": [
    "df['CryoSleep'].value_counts('n')"
   ]
  },
  {
   "cell_type": "code",
   "execution_count": 27,
   "id": "23fbe366",
   "metadata": {},
   "outputs": [
    {
     "data": {
      "text/plain": [
       "Index(['PassengerId', 'HomePlanet', 'CryoSleep', 'Cabin', 'Destination', 'Age',\n",
       "       'VIP', 'RoomService', 'FoodCourt', 'ShoppingMall', 'Spa', 'VRDeck',\n",
       "       'Name', 'Transported', 'PassengerId_format_ok', 'Group', 'GroupRank',\n",
       "       'GroupSize'],\n",
       "      dtype='object')"
      ]
     },
     "execution_count": 27,
     "metadata": {},
     "output_type": "execute_result"
    }
   ],
   "source": [
    "df.columns"
   ]
  },
  {
   "cell_type": "markdown",
   "id": "a94825d3",
   "metadata": {},
   "source": [
    "# Cabin"
   ]
  },
  {
   "cell_type": "code",
   "execution_count": 28,
   "id": "2697471e",
   "metadata": {},
   "outputs": [
    {
     "data": {
      "text/plain": [
       "0    B/0/P\n",
       "1    F/0/S\n",
       "2    A/0/S\n",
       "3    A/0/S\n",
       "4    F/1/S\n",
       "5    F/0/P\n",
       "6    F/2/S\n",
       "7    G/0/S\n",
       "8    F/3/S\n",
       "9    B/1/P\n",
       "Name: Cabin, dtype: object"
      ]
     },
     "execution_count": 28,
     "metadata": {},
     "output_type": "execute_result"
    }
   ],
   "source": [
    "df['Cabin'].head(10)"
   ]
  },
  {
   "cell_type": "code",
   "execution_count": 29,
   "id": "b9b3651c",
   "metadata": {},
   "outputs": [
    {
     "data": {
      "text/plain": [
       "0.024305555555555556"
      ]
     },
     "execution_count": 29,
     "metadata": {},
     "output_type": "execute_result"
    }
   ],
   "source": [
    "df[df['Cabin'].isna()]['VIP'].mean()"
   ]
  },
  {
   "cell_type": "code",
   "execution_count": 30,
   "id": "20363ee2",
   "metadata": {},
   "outputs": [
    {
     "data": {
      "text/plain": [
       "0.021540160959444533"
      ]
     },
     "execution_count": 30,
     "metadata": {},
     "output_type": "execute_result"
    }
   ],
   "source": [
    "df['VIP'].mean()"
   ]
  },
  {
   "cell_type": "code",
   "execution_count": 31,
   "id": "87f331d9",
   "metadata": {},
   "outputs": [],
   "source": [
    "#Split cabin into deck / number / side"
   ]
  },
  {
   "cell_type": "code",
   "execution_count": 32,
   "id": "846fa190",
   "metadata": {},
   "outputs": [],
   "source": [
    "df['Cabin_deck'] = df['Cabin'].apply(lambda this_cabin: this_cabin.split('/')[0] if type(this_cabin) == str else np.nan)\n",
    "df['Cabin_number'] = df['Cabin'].apply(lambda this_cabin: int(this_cabin.split('/')[1]) if type(this_cabin) == str else np.nan)\n",
    "df['Cabin_side'] = df['Cabin'].apply(lambda this_cabin: this_cabin.split('/')[2] if type(this_cabin) == str else np.nan)"
   ]
  },
  {
   "cell_type": "markdown",
   "id": "2f393e04",
   "metadata": {},
   "source": [
    "### Cabin_side"
   ]
  },
  {
   "cell_type": "code",
   "execution_count": 33,
   "id": "2ef721c5",
   "metadata": {},
   "outputs": [
    {
     "data": {
      "text/plain": [
       "S    0.503591\n",
       "P    0.496409\n",
       "Name: Cabin_side, dtype: float64"
      ]
     },
     "execution_count": 33,
     "metadata": {},
     "output_type": "execute_result"
    }
   ],
   "source": [
    "df['Cabin_side'].value_counts('n')"
   ]
  },
  {
   "cell_type": "markdown",
   "id": "49015c76",
   "metadata": {},
   "source": [
    "### Cabin deck"
   ]
  },
  {
   "cell_type": "code",
   "execution_count": 34,
   "id": "4fb5dc6b",
   "metadata": {
    "scrolled": false
   },
   "outputs": [
    {
     "data": {
      "text/plain": [
       "<AxesSubplot:>"
      ]
     },
     "execution_count": 34,
     "metadata": {},
     "output_type": "execute_result"
    },
    {
     "data": {
      "image/png": "[encoded data removed]",
      "text/plain": [
       "<Figure size 432x288 with 1 Axes>"
      ]
     },
     "metadata": {},
     "output_type": "display_data"
    }
   ],
   "source": [
    "df['Cabin_deck'].sort_values().hist(bins = 8, log = True)"
   ]
  },
  {
   "cell_type": "code",
   "execution_count": 35,
   "id": "0f24b960",
   "metadata": {},
   "outputs": [
    {
     "data": {
      "text/html": [
       "<div>\n",
       "<style scoped>\n",
       "    .dataframe tbody tr th:only-of-type {\n",
       "        vertical-align: middle;\n",
       "    }\n",
       "\n",
       "    .dataframe tbody tr th {\n",
       "        vertical-align: top;\n",
       "    }\n",
       "\n",
       "    .dataframe thead th {\n",
       "        text-align: right;\n",
       "    }\n",
       "</style>\n",
       "<table border=\"1\" class=\"dataframe\">\n",
       "  <thead>\n",
       "    <tr style=\"text-align: right;\">\n",
       "      <th></th>\n",
       "      <th>PassengerId</th>\n",
       "      <th>HomePlanet</th>\n",
       "      <th>CryoSleep</th>\n",
       "      <th>Cabin</th>\n",
       "      <th>Destination</th>\n",
       "      <th>Age</th>\n",
       "      <th>VIP</th>\n",
       "      <th>RoomService</th>\n",
       "      <th>FoodCourt</th>\n",
       "      <th>ShoppingMall</th>\n",
       "      <th>Spa</th>\n",
       "      <th>VRDeck</th>\n",
       "      <th>Name</th>\n",
       "      <th>Transported</th>\n",
       "      <th>PassengerId_format_ok</th>\n",
       "      <th>Group</th>\n",
       "      <th>GroupRank</th>\n",
       "      <th>GroupSize</th>\n",
       "      <th>Cabin_deck</th>\n",
       "      <th>Cabin_number</th>\n",
       "      <th>Cabin_side</th>\n",
       "    </tr>\n",
       "  </thead>\n",
       "  <tbody>\n",
       "    <tr>\n",
       "      <th>1004</th>\n",
       "      <td>1071_01</td>\n",
       "      <td>NaN</td>\n",
       "      <td>False</td>\n",
       "      <td>T/0/P</td>\n",
       "      <td>TRAPPIST-1e</td>\n",
       "      <td>35.0</td>\n",
       "      <td>False</td>\n",
       "      <td>415.0</td>\n",
       "      <td>1328.0</td>\n",
       "      <td>0.0</td>\n",
       "      <td>14.0</td>\n",
       "      <td>60.0</td>\n",
       "      <td>Alraida Dingauge</td>\n",
       "      <td>False</td>\n",
       "      <td>True</td>\n",
       "      <td>1071</td>\n",
       "      <td>1</td>\n",
       "      <td>1</td>\n",
       "      <td>T</td>\n",
       "      <td>0.0</td>\n",
       "      <td>P</td>\n",
       "    </tr>\n",
       "    <tr>\n",
       "      <th>2254</th>\n",
       "      <td>2414_01</td>\n",
       "      <td>Europa</td>\n",
       "      <td>False</td>\n",
       "      <td>T/1/P</td>\n",
       "      <td>TRAPPIST-1e</td>\n",
       "      <td>42.0</td>\n",
       "      <td>False</td>\n",
       "      <td>0.0</td>\n",
       "      <td>1829.0</td>\n",
       "      <td>2.0</td>\n",
       "      <td>3133.0</td>\n",
       "      <td>2447.0</td>\n",
       "      <td>Mergak Headfair</td>\n",
       "      <td>False</td>\n",
       "      <td>True</td>\n",
       "      <td>2414</td>\n",
       "      <td>1</td>\n",
       "      <td>1</td>\n",
       "      <td>T</td>\n",
       "      <td>1.0</td>\n",
       "      <td>P</td>\n",
       "    </tr>\n",
       "    <tr>\n",
       "      <th>2734</th>\n",
       "      <td>2935_01</td>\n",
       "      <td>Europa</td>\n",
       "      <td>False</td>\n",
       "      <td>T/2/P</td>\n",
       "      <td>TRAPPIST-1e</td>\n",
       "      <td>33.0</td>\n",
       "      <td>False</td>\n",
       "      <td>0.0</td>\n",
       "      <td>28.0</td>\n",
       "      <td>0.0</td>\n",
       "      <td>6841.0</td>\n",
       "      <td>543.0</td>\n",
       "      <td>NaN</td>\n",
       "      <td>False</td>\n",
       "      <td>True</td>\n",
       "      <td>2935</td>\n",
       "      <td>1</td>\n",
       "      <td>1</td>\n",
       "      <td>T</td>\n",
       "      <td>2.0</td>\n",
       "      <td>P</td>\n",
       "    </tr>\n",
       "    <tr>\n",
       "      <th>2763</th>\n",
       "      <td>2971_01</td>\n",
       "      <td>Europa</td>\n",
       "      <td>False</td>\n",
       "      <td>T/3/P</td>\n",
       "      <td>TRAPPIST-1e</td>\n",
       "      <td>38.0</td>\n",
       "      <td>False</td>\n",
       "      <td>0.0</td>\n",
       "      <td>3135.0</td>\n",
       "      <td>0.0</td>\n",
       "      <td>26.0</td>\n",
       "      <td>3.0</td>\n",
       "      <td>Pent Sessiouse</td>\n",
       "      <td>True</td>\n",
       "      <td>True</td>\n",
       "      <td>2971</td>\n",
       "      <td>1</td>\n",
       "      <td>1</td>\n",
       "      <td>T</td>\n",
       "      <td>3.0</td>\n",
       "      <td>P</td>\n",
       "    </tr>\n",
       "    <tr>\n",
       "      <th>4565</th>\n",
       "      <td>4863_01</td>\n",
       "      <td>Europa</td>\n",
       "      <td>NaN</td>\n",
       "      <td>T/2/S</td>\n",
       "      <td>TRAPPIST-1e</td>\n",
       "      <td>37.0</td>\n",
       "      <td>False</td>\n",
       "      <td>1721.0</td>\n",
       "      <td>667.0</td>\n",
       "      <td>NaN</td>\n",
       "      <td>28.0</td>\n",
       "      <td>1362.0</td>\n",
       "      <td>Phacton Unsible</td>\n",
       "      <td>False</td>\n",
       "      <td>True</td>\n",
       "      <td>4863</td>\n",
       "      <td>1</td>\n",
       "      <td>1</td>\n",
       "      <td>T</td>\n",
       "      <td>2.0</td>\n",
       "      <td>S</td>\n",
       "    </tr>\n",
       "    <tr>\n",
       "      <th>8937</th>\n",
       "      <td>0524_01</td>\n",
       "      <td>Europa</td>\n",
       "      <td>False</td>\n",
       "      <td>T/0/S</td>\n",
       "      <td>TRAPPIST-1e</td>\n",
       "      <td>35.0</td>\n",
       "      <td>False</td>\n",
       "      <td>0.0</td>\n",
       "      <td>6442.0</td>\n",
       "      <td>672.0</td>\n",
       "      <td>238.0</td>\n",
       "      <td>60.0</td>\n",
       "      <td>Tabius Frogauded</td>\n",
       "      <td>NaN</td>\n",
       "      <td>True</td>\n",
       "      <td>524</td>\n",
       "      <td>1</td>\n",
       "      <td>1</td>\n",
       "      <td>T</td>\n",
       "      <td>0.0</td>\n",
       "      <td>S</td>\n",
       "    </tr>\n",
       "    <tr>\n",
       "      <th>9744</th>\n",
       "      <td>2217_01</td>\n",
       "      <td>Europa</td>\n",
       "      <td>False</td>\n",
       "      <td>T/1/S</td>\n",
       "      <td>TRAPPIST-1e</td>\n",
       "      <td>26.0</td>\n",
       "      <td>False</td>\n",
       "      <td>132.0</td>\n",
       "      <td>2576.0</td>\n",
       "      <td>0.0</td>\n",
       "      <td>2060.0</td>\n",
       "      <td>3.0</td>\n",
       "      <td>Alarmus Brantcable</td>\n",
       "      <td>NaN</td>\n",
       "      <td>True</td>\n",
       "      <td>2217</td>\n",
       "      <td>1</td>\n",
       "      <td>1</td>\n",
       "      <td>T</td>\n",
       "      <td>1.0</td>\n",
       "      <td>S</td>\n",
       "    </tr>\n",
       "    <tr>\n",
       "      <th>10187</th>\n",
       "      <td>3208_01</td>\n",
       "      <td>Europa</td>\n",
       "      <td>False</td>\n",
       "      <td>T/4/P</td>\n",
       "      <td>TRAPPIST-1e</td>\n",
       "      <td>27.0</td>\n",
       "      <td>False</td>\n",
       "      <td>0.0</td>\n",
       "      <td>11293.0</td>\n",
       "      <td>0.0</td>\n",
       "      <td>297.0</td>\n",
       "      <td>4736.0</td>\n",
       "      <td>Thabius Reeddommy</td>\n",
       "      <td>NaN</td>\n",
       "      <td>True</td>\n",
       "      <td>3208</td>\n",
       "      <td>1</td>\n",
       "      <td>1</td>\n",
       "      <td>T</td>\n",
       "      <td>4.0</td>\n",
       "      <td>P</td>\n",
       "    </tr>\n",
       "    <tr>\n",
       "      <th>11904</th>\n",
       "      <td>7046_01</td>\n",
       "      <td>Europa</td>\n",
       "      <td>False</td>\n",
       "      <td>T/3/S</td>\n",
       "      <td>55 Cancri e</td>\n",
       "      <td>27.0</td>\n",
       "      <td>NaN</td>\n",
       "      <td>6.0</td>\n",
       "      <td>400.0</td>\n",
       "      <td>0.0</td>\n",
       "      <td>6472.0</td>\n",
       "      <td>0.0</td>\n",
       "      <td>Tope Ativeezy</td>\n",
       "      <td>NaN</td>\n",
       "      <td>True</td>\n",
       "      <td>7046</td>\n",
       "      <td>1</td>\n",
       "      <td>3</td>\n",
       "      <td>T</td>\n",
       "      <td>3.0</td>\n",
       "      <td>S</td>\n",
       "    </tr>\n",
       "    <tr>\n",
       "      <th>11905</th>\n",
       "      <td>7046_02</td>\n",
       "      <td>Europa</td>\n",
       "      <td>False</td>\n",
       "      <td>T/3/S</td>\n",
       "      <td>55 Cancri e</td>\n",
       "      <td>44.0</td>\n",
       "      <td>False</td>\n",
       "      <td>0.0</td>\n",
       "      <td>1190.0</td>\n",
       "      <td>0.0</td>\n",
       "      <td>1906.0</td>\n",
       "      <td>167.0</td>\n",
       "      <td>Genubih Ativeezy</td>\n",
       "      <td>NaN</td>\n",
       "      <td>True</td>\n",
       "      <td>7046</td>\n",
       "      <td>2</td>\n",
       "      <td>3</td>\n",
       "      <td>T</td>\n",
       "      <td>3.0</td>\n",
       "      <td>S</td>\n",
       "    </tr>\n",
       "    <tr>\n",
       "      <th>11906</th>\n",
       "      <td>7046_03</td>\n",
       "      <td>Europa</td>\n",
       "      <td>False</td>\n",
       "      <td>T/3/S</td>\n",
       "      <td>TRAPPIST-1e</td>\n",
       "      <td>47.0</td>\n",
       "      <td>False</td>\n",
       "      <td>0.0</td>\n",
       "      <td>339.0</td>\n",
       "      <td>0.0</td>\n",
       "      <td>508.0</td>\n",
       "      <td>2000.0</td>\n",
       "      <td>Zinon Ativeezy</td>\n",
       "      <td>NaN</td>\n",
       "      <td>True</td>\n",
       "      <td>7046</td>\n",
       "      <td>3</td>\n",
       "      <td>3</td>\n",
       "      <td>T</td>\n",
       "      <td>3.0</td>\n",
       "      <td>S</td>\n",
       "    </tr>\n",
       "  </tbody>\n",
       "</table>\n",
       "</div>"
      ],
      "text/plain": [
       "      PassengerId HomePlanet CryoSleep  Cabin  Destination   Age    VIP  \\\n",
       "1004      1071_01        NaN     False  T/0/P  TRAPPIST-1e  35.0  False   \n",
       "2254      2414_01     Europa     False  T/1/P  TRAPPIST-1e  42.0  False   \n",
       "2734      2935_01     Europa     False  T/2/P  TRAPPIST-1e  33.0  False   \n",
       "2763      2971_01     Europa     False  T/3/P  TRAPPIST-1e  38.0  False   \n",
       "4565      4863_01     Europa       NaN  T/2/S  TRAPPIST-1e  37.0  False   \n",
       "8937      0524_01     Europa     False  T/0/S  TRAPPIST-1e  35.0  False   \n",
       "9744      2217_01     Europa     False  T/1/S  TRAPPIST-1e  26.0  False   \n",
       "10187     3208_01     Europa     False  T/4/P  TRAPPIST-1e  27.0  False   \n",
       "11904     7046_01     Europa     False  T/3/S  55 Cancri e  27.0    NaN   \n",
       "11905     7046_02     Europa     False  T/3/S  55 Cancri e  44.0  False   \n",
       "11906     7046_03     Europa     False  T/3/S  TRAPPIST-1e  47.0  False   \n",
       "\n",
       "       RoomService  FoodCourt  ShoppingMall     Spa  VRDeck  \\\n",
       "1004         415.0     1328.0           0.0    14.0    60.0   \n",
       "2254           0.0     1829.0           2.0  3133.0  2447.0   \n",
       "2734           0.0       28.0           0.0  6841.0   543.0   \n",
       "2763           0.0     3135.0           0.0    26.0     3.0   \n",
       "4565        1721.0      667.0           NaN    28.0  1362.0   \n",
       "8937           0.0     6442.0         672.0   238.0    60.0   \n",
       "9744         132.0     2576.0           0.0  2060.0     3.0   \n",
       "10187          0.0    11293.0           0.0   297.0  4736.0   \n",
       "11904          6.0      400.0           0.0  6472.0     0.0   \n",
       "11905          0.0     1190.0           0.0  1906.0   167.0   \n",
       "11906          0.0      339.0           0.0   508.0  2000.0   \n",
       "\n",
       "                     Name Transported  PassengerId_format_ok  Group  \\\n",
       "1004     Alraida Dingauge       False                   True   1071   \n",
       "2254      Mergak Headfair       False                   True   2414   \n",
       "2734                  NaN       False                   True   2935   \n",
       "2763       Pent Sessiouse        True                   True   2971   \n",
       "4565      Phacton Unsible       False                   True   4863   \n",
       "8937     Tabius Frogauded         NaN                   True    524   \n",
       "9744   Alarmus Brantcable         NaN                   True   2217   \n",
       "10187   Thabius Reeddommy         NaN                   True   3208   \n",
       "11904       Tope Ativeezy         NaN                   True   7046   \n",
       "11905    Genubih Ativeezy         NaN                   True   7046   \n",
       "11906      Zinon Ativeezy         NaN                   True   7046   \n",
       "\n",
       "       GroupRank  GroupSize Cabin_deck  Cabin_number Cabin_side  \n",
       "1004           1          1          T           0.0          P  \n",
       "2254           1          1          T           1.0          P  \n",
       "2734           1          1          T           2.0          P  \n",
       "2763           1          1          T           3.0          P  \n",
       "4565           1          1          T           2.0          S  \n",
       "8937           1          1          T           0.0          S  \n",
       "9744           1          1          T           1.0          S  \n",
       "10187          1          1          T           4.0          P  \n",
       "11904          1          3          T           3.0          S  \n",
       "11905          2          3          T           3.0          S  \n",
       "11906          3          3          T           3.0          S  "
      ]
     },
     "execution_count": 35,
     "metadata": {},
     "output_type": "execute_result"
    }
   ],
   "source": [
    "# who is staying in the T deck?\n",
    "df[df['Cabin_deck'] == 'T']"
   ]
  },
  {
   "cell_type": "code",
   "execution_count": 36,
   "id": "8765cbac",
   "metadata": {},
   "outputs": [
    {
     "data": {
      "text/html": [
       "<div>\n",
       "<style scoped>\n",
       "    .dataframe tbody tr th:only-of-type {\n",
       "        vertical-align: middle;\n",
       "    }\n",
       "\n",
       "    .dataframe tbody tr th {\n",
       "        vertical-align: top;\n",
       "    }\n",
       "\n",
       "    .dataframe thead th {\n",
       "        text-align: right;\n",
       "    }\n",
       "</style>\n",
       "<table border=\"1\" class=\"dataframe\">\n",
       "  <thead>\n",
       "    <tr style=\"text-align: right;\">\n",
       "      <th></th>\n",
       "      <th></th>\n",
       "      <th>PassengerId</th>\n",
       "      <th>HomePlanet</th>\n",
       "      <th>CryoSleep</th>\n",
       "      <th>Cabin</th>\n",
       "      <th>Destination</th>\n",
       "      <th>Age</th>\n",
       "      <th>VIP</th>\n",
       "      <th>RoomService</th>\n",
       "      <th>FoodCourt</th>\n",
       "      <th>ShoppingMall</th>\n",
       "      <th>Spa</th>\n",
       "      <th>VRDeck</th>\n",
       "      <th>Name</th>\n",
       "      <th>Transported</th>\n",
       "      <th>PassengerId_format_ok</th>\n",
       "      <th>Group</th>\n",
       "      <th>GroupRank</th>\n",
       "      <th>GroupSize</th>\n",
       "      <th>Cabin_number</th>\n",
       "    </tr>\n",
       "    <tr>\n",
       "      <th>Cabin_deck</th>\n",
       "      <th>Cabin_side</th>\n",
       "      <th></th>\n",
       "      <th></th>\n",
       "      <th></th>\n",
       "      <th></th>\n",
       "      <th></th>\n",
       "      <th></th>\n",
       "      <th></th>\n",
       "      <th></th>\n",
       "      <th></th>\n",
       "      <th></th>\n",
       "      <th></th>\n",
       "      <th></th>\n",
       "      <th></th>\n",
       "      <th></th>\n",
       "      <th></th>\n",
       "      <th></th>\n",
       "      <th></th>\n",
       "      <th></th>\n",
       "      <th></th>\n",
       "    </tr>\n",
       "  </thead>\n",
       "  <tbody>\n",
       "    <tr>\n",
       "      <th rowspan=\"2\" valign=\"top\">A</th>\n",
       "      <th>P</th>\n",
       "      <td>166</td>\n",
       "      <td>161</td>\n",
       "      <td>162</td>\n",
       "      <td>166</td>\n",
       "      <td>163</td>\n",
       "      <td>160</td>\n",
       "      <td>162</td>\n",
       "      <td>163</td>\n",
       "      <td>165</td>\n",
       "      <td>162</td>\n",
       "      <td>165</td>\n",
       "      <td>163</td>\n",
       "      <td>162</td>\n",
       "      <td>117</td>\n",
       "      <td>166</td>\n",
       "      <td>166</td>\n",
       "      <td>166</td>\n",
       "      <td>166</td>\n",
       "      <td>166</td>\n",
       "    </tr>\n",
       "    <tr>\n",
       "      <th>S</th>\n",
       "      <td>188</td>\n",
       "      <td>185</td>\n",
       "      <td>182</td>\n",
       "      <td>188</td>\n",
       "      <td>186</td>\n",
       "      <td>184</td>\n",
       "      <td>182</td>\n",
       "      <td>184</td>\n",
       "      <td>187</td>\n",
       "      <td>183</td>\n",
       "      <td>186</td>\n",
       "      <td>185</td>\n",
       "      <td>184</td>\n",
       "      <td>139</td>\n",
       "      <td>188</td>\n",
       "      <td>188</td>\n",
       "      <td>188</td>\n",
       "      <td>188</td>\n",
       "      <td>188</td>\n",
       "    </tr>\n",
       "    <tr>\n",
       "      <th rowspan=\"2\" valign=\"top\">B</th>\n",
       "      <th>P</th>\n",
       "      <td>512</td>\n",
       "      <td>505</td>\n",
       "      <td>501</td>\n",
       "      <td>512</td>\n",
       "      <td>500</td>\n",
       "      <td>504</td>\n",
       "      <td>499</td>\n",
       "      <td>502</td>\n",
       "      <td>504</td>\n",
       "      <td>497</td>\n",
       "      <td>506</td>\n",
       "      <td>501</td>\n",
       "      <td>500</td>\n",
       "      <td>353</td>\n",
       "      <td>512</td>\n",
       "      <td>512</td>\n",
       "      <td>512</td>\n",
       "      <td>512</td>\n",
       "      <td>512</td>\n",
       "    </tr>\n",
       "    <tr>\n",
       "      <th>S</th>\n",
       "      <td>629</td>\n",
       "      <td>619</td>\n",
       "      <td>613</td>\n",
       "      <td>629</td>\n",
       "      <td>618</td>\n",
       "      <td>613</td>\n",
       "      <td>617</td>\n",
       "      <td>618</td>\n",
       "      <td>616</td>\n",
       "      <td>616</td>\n",
       "      <td>611</td>\n",
       "      <td>622</td>\n",
       "      <td>617</td>\n",
       "      <td>426</td>\n",
       "      <td>629</td>\n",
       "      <td>629</td>\n",
       "      <td>629</td>\n",
       "      <td>629</td>\n",
       "      <td>629</td>\n",
       "    </tr>\n",
       "    <tr>\n",
       "      <th rowspan=\"2\" valign=\"top\">C</th>\n",
       "      <th>P</th>\n",
       "      <td>533</td>\n",
       "      <td>528</td>\n",
       "      <td>521</td>\n",
       "      <td>533</td>\n",
       "      <td>517</td>\n",
       "      <td>519</td>\n",
       "      <td>520</td>\n",
       "      <td>523</td>\n",
       "      <td>515</td>\n",
       "      <td>518</td>\n",
       "      <td>520</td>\n",
       "      <td>524</td>\n",
       "      <td>524</td>\n",
       "      <td>341</td>\n",
       "      <td>533</td>\n",
       "      <td>533</td>\n",
       "      <td>533</td>\n",
       "      <td>533</td>\n",
       "      <td>533</td>\n",
       "    </tr>\n",
       "    <tr>\n",
       "      <th>S</th>\n",
       "      <td>569</td>\n",
       "      <td>553</td>\n",
       "      <td>552</td>\n",
       "      <td>569</td>\n",
       "      <td>564</td>\n",
       "      <td>559</td>\n",
       "      <td>553</td>\n",
       "      <td>562</td>\n",
       "      <td>556</td>\n",
       "      <td>555</td>\n",
       "      <td>554</td>\n",
       "      <td>559</td>\n",
       "      <td>560</td>\n",
       "      <td>406</td>\n",
       "      <td>569</td>\n",
       "      <td>569</td>\n",
       "      <td>569</td>\n",
       "      <td>569</td>\n",
       "      <td>569</td>\n",
       "    </tr>\n",
       "    <tr>\n",
       "      <th rowspan=\"2\" valign=\"top\">D</th>\n",
       "      <th>P</th>\n",
       "      <td>370</td>\n",
       "      <td>358</td>\n",
       "      <td>362</td>\n",
       "      <td>370</td>\n",
       "      <td>364</td>\n",
       "      <td>361</td>\n",
       "      <td>366</td>\n",
       "      <td>364</td>\n",
       "      <td>362</td>\n",
       "      <td>361</td>\n",
       "      <td>362</td>\n",
       "      <td>360</td>\n",
       "      <td>357</td>\n",
       "      <td>248</td>\n",
       "      <td>370</td>\n",
       "      <td>370</td>\n",
       "      <td>370</td>\n",
       "      <td>370</td>\n",
       "      <td>370</td>\n",
       "    </tr>\n",
       "    <tr>\n",
       "      <th>S</th>\n",
       "      <td>350</td>\n",
       "      <td>344</td>\n",
       "      <td>345</td>\n",
       "      <td>350</td>\n",
       "      <td>341</td>\n",
       "      <td>344</td>\n",
       "      <td>341</td>\n",
       "      <td>342</td>\n",
       "      <td>341</td>\n",
       "      <td>346</td>\n",
       "      <td>337</td>\n",
       "      <td>343</td>\n",
       "      <td>346</td>\n",
       "      <td>230</td>\n",
       "      <td>350</td>\n",
       "      <td>350</td>\n",
       "      <td>350</td>\n",
       "      <td>350</td>\n",
       "      <td>350</td>\n",
       "    </tr>\n",
       "    <tr>\n",
       "      <th rowspan=\"2\" valign=\"top\">E</th>\n",
       "      <th>P</th>\n",
       "      <td>641</td>\n",
       "      <td>628</td>\n",
       "      <td>624</td>\n",
       "      <td>641</td>\n",
       "      <td>629</td>\n",
       "      <td>627</td>\n",
       "      <td>626</td>\n",
       "      <td>627</td>\n",
       "      <td>626</td>\n",
       "      <td>628</td>\n",
       "      <td>628</td>\n",
       "      <td>630</td>\n",
       "      <td>628</td>\n",
       "      <td>429</td>\n",
       "      <td>641</td>\n",
       "      <td>641</td>\n",
       "      <td>641</td>\n",
       "      <td>641</td>\n",
       "      <td>641</td>\n",
       "    </tr>\n",
       "    <tr>\n",
       "      <th>S</th>\n",
       "      <td>682</td>\n",
       "      <td>660</td>\n",
       "      <td>668</td>\n",
       "      <td>682</td>\n",
       "      <td>659</td>\n",
       "      <td>669</td>\n",
       "      <td>674</td>\n",
       "      <td>666</td>\n",
       "      <td>670</td>\n",
       "      <td>666</td>\n",
       "      <td>666</td>\n",
       "      <td>671</td>\n",
       "      <td>669</td>\n",
       "      <td>447</td>\n",
       "      <td>682</td>\n",
       "      <td>682</td>\n",
       "      <td>682</td>\n",
       "      <td>682</td>\n",
       "      <td>682</td>\n",
       "    </tr>\n",
       "    <tr>\n",
       "      <th rowspan=\"2\" valign=\"top\">F</th>\n",
       "      <th>P</th>\n",
       "      <td>2178</td>\n",
       "      <td>2130</td>\n",
       "      <td>2119</td>\n",
       "      <td>2178</td>\n",
       "      <td>2133</td>\n",
       "      <td>2135</td>\n",
       "      <td>2131</td>\n",
       "      <td>2128</td>\n",
       "      <td>2133</td>\n",
       "      <td>2133</td>\n",
       "      <td>2127</td>\n",
       "      <td>2130</td>\n",
       "      <td>2128</td>\n",
       "      <td>1438</td>\n",
       "      <td>2178</td>\n",
       "      <td>2178</td>\n",
       "      <td>2178</td>\n",
       "      <td>2178</td>\n",
       "      <td>2178</td>\n",
       "    </tr>\n",
       "    <tr>\n",
       "      <th>S</th>\n",
       "      <td>2061</td>\n",
       "      <td>2009</td>\n",
       "      <td>2020</td>\n",
       "      <td>2061</td>\n",
       "      <td>2010</td>\n",
       "      <td>2023</td>\n",
       "      <td>2012</td>\n",
       "      <td>2026</td>\n",
       "      <td>2012</td>\n",
       "      <td>2019</td>\n",
       "      <td>2020</td>\n",
       "      <td>2016</td>\n",
       "      <td>2009</td>\n",
       "      <td>1356</td>\n",
       "      <td>2061</td>\n",
       "      <td>2061</td>\n",
       "      <td>2061</td>\n",
       "      <td>2061</td>\n",
       "      <td>2061</td>\n",
       "    </tr>\n",
       "    <tr>\n",
       "      <th rowspan=\"2\" valign=\"top\">G</th>\n",
       "      <th>P</th>\n",
       "      <td>1885</td>\n",
       "      <td>1848</td>\n",
       "      <td>1837</td>\n",
       "      <td>1885</td>\n",
       "      <td>1845</td>\n",
       "      <td>1845</td>\n",
       "      <td>1838</td>\n",
       "      <td>1835</td>\n",
       "      <td>1847</td>\n",
       "      <td>1828</td>\n",
       "      <td>1848</td>\n",
       "      <td>1851</td>\n",
       "      <td>1841</td>\n",
       "      <td>1276</td>\n",
       "      <td>1885</td>\n",
       "      <td>1885</td>\n",
       "      <td>1885</td>\n",
       "      <td>1885</td>\n",
       "      <td>1885</td>\n",
       "    </tr>\n",
       "    <tr>\n",
       "      <th>S</th>\n",
       "      <td>1896</td>\n",
       "      <td>1852</td>\n",
       "      <td>1855</td>\n",
       "      <td>1896</td>\n",
       "      <td>1861</td>\n",
       "      <td>1852</td>\n",
       "      <td>1855</td>\n",
       "      <td>1861</td>\n",
       "      <td>1845</td>\n",
       "      <td>1848</td>\n",
       "      <td>1849</td>\n",
       "      <td>1841</td>\n",
       "      <td>1845</td>\n",
       "      <td>1283</td>\n",
       "      <td>1896</td>\n",
       "      <td>1896</td>\n",
       "      <td>1896</td>\n",
       "      <td>1896</td>\n",
       "      <td>1896</td>\n",
       "    </tr>\n",
       "    <tr>\n",
       "      <th rowspan=\"2\" valign=\"top\">T</th>\n",
       "      <th>P</th>\n",
       "      <td>5</td>\n",
       "      <td>4</td>\n",
       "      <td>5</td>\n",
       "      <td>5</td>\n",
       "      <td>5</td>\n",
       "      <td>5</td>\n",
       "      <td>5</td>\n",
       "      <td>5</td>\n",
       "      <td>5</td>\n",
       "      <td>5</td>\n",
       "      <td>5</td>\n",
       "      <td>5</td>\n",
       "      <td>4</td>\n",
       "      <td>4</td>\n",
       "      <td>5</td>\n",
       "      <td>5</td>\n",
       "      <td>5</td>\n",
       "      <td>5</td>\n",
       "      <td>5</td>\n",
       "    </tr>\n",
       "    <tr>\n",
       "      <th>S</th>\n",
       "      <td>6</td>\n",
       "      <td>6</td>\n",
       "      <td>5</td>\n",
       "      <td>6</td>\n",
       "      <td>6</td>\n",
       "      <td>6</td>\n",
       "      <td>5</td>\n",
       "      <td>6</td>\n",
       "      <td>6</td>\n",
       "      <td>5</td>\n",
       "      <td>6</td>\n",
       "      <td>6</td>\n",
       "      <td>6</td>\n",
       "      <td>1</td>\n",
       "      <td>6</td>\n",
       "      <td>6</td>\n",
       "      <td>6</td>\n",
       "      <td>6</td>\n",
       "      <td>6</td>\n",
       "    </tr>\n",
       "  </tbody>\n",
       "</table>\n",
       "</div>"
      ],
      "text/plain": [
       "                       PassengerId  HomePlanet  CryoSleep  Cabin  Destination  \\\n",
       "Cabin_deck Cabin_side                                                           \n",
       "A          P                   166         161        162    166          163   \n",
       "           S                   188         185        182    188          186   \n",
       "B          P                   512         505        501    512          500   \n",
       "           S                   629         619        613    629          618   \n",
       "C          P                   533         528        521    533          517   \n",
       "           S                   569         553        552    569          564   \n",
       "D          P                   370         358        362    370          364   \n",
       "           S                   350         344        345    350          341   \n",
       "E          P                   641         628        624    641          629   \n",
       "           S                   682         660        668    682          659   \n",
       "F          P                  2178        2130       2119   2178         2133   \n",
       "           S                  2061        2009       2020   2061         2010   \n",
       "G          P                  1885        1848       1837   1885         1845   \n",
       "           S                  1896        1852       1855   1896         1861   \n",
       "T          P                     5           4          5      5            5   \n",
       "           S                     6           6          5      6            6   \n",
       "\n",
       "                        Age   VIP  RoomService  FoodCourt  ShoppingMall   Spa  \\\n",
       "Cabin_deck Cabin_side                                                           \n",
       "A          P            160   162          163        165           162   165   \n",
       "           S            184   182          184        187           183   186   \n",
       "B          P            504   499          502        504           497   506   \n",
       "           S            613   617          618        616           616   611   \n",
       "C          P            519   520          523        515           518   520   \n",
       "           S            559   553          562        556           555   554   \n",
       "D          P            361   366          364        362           361   362   \n",
       "           S            344   341          342        341           346   337   \n",
       "E          P            627   626          627        626           628   628   \n",
       "           S            669   674          666        670           666   666   \n",
       "F          P           2135  2131         2128       2133          2133  2127   \n",
       "           S           2023  2012         2026       2012          2019  2020   \n",
       "G          P           1845  1838         1835       1847          1828  1848   \n",
       "           S           1852  1855         1861       1845          1848  1849   \n",
       "T          P              5     5            5          5             5     5   \n",
       "           S              6     5            6          6             5     6   \n",
       "\n",
       "                       VRDeck  Name  Transported  PassengerId_format_ok  \\\n",
       "Cabin_deck Cabin_side                                                     \n",
       "A          P              163   162          117                    166   \n",
       "           S              185   184          139                    188   \n",
       "B          P              501   500          353                    512   \n",
       "           S              622   617          426                    629   \n",
       "C          P              524   524          341                    533   \n",
       "           S              559   560          406                    569   \n",
       "D          P              360   357          248                    370   \n",
       "           S              343   346          230                    350   \n",
       "E          P              630   628          429                    641   \n",
       "           S              671   669          447                    682   \n",
       "F          P             2130  2128         1438                   2178   \n",
       "           S             2016  2009         1356                   2061   \n",
       "G          P             1851  1841         1276                   1885   \n",
       "           S             1841  1845         1283                   1896   \n",
       "T          P                5     4            4                      5   \n",
       "           S                6     6            1                      6   \n",
       "\n",
       "                       Group  GroupRank  GroupSize  Cabin_number  \n",
       "Cabin_deck Cabin_side                                             \n",
       "A          P             166        166        166           166  \n",
       "           S             188        188        188           188  \n",
       "B          P             512        512        512           512  \n",
       "           S             629        629        629           629  \n",
       "C          P             533        533        533           533  \n",
       "           S             569        569        569           569  \n",
       "D          P             370        370        370           370  \n",
       "           S             350        350        350           350  \n",
       "E          P             641        641        641           641  \n",
       "           S             682        682        682           682  \n",
       "F          P            2178       2178       2178          2178  \n",
       "           S            2061       2061       2061          2061  \n",
       "G          P            1885       1885       1885          1885  \n",
       "           S            1896       1896       1896          1896  \n",
       "T          P               5          5          5             5  \n",
       "           S               6          6          6             6  "
      ]
     },
     "execution_count": 36,
     "metadata": {},
     "output_type": "execute_result"
    }
   ],
   "source": [
    "# What is the size of each deck?\n",
    "df.groupby(by = ['Cabin_deck', 'Cabin_side']).count()"
   ]
  },
  {
   "cell_type": "markdown",
   "id": "ca631fbe",
   "metadata": {},
   "source": [
    "### Cabin_number"
   ]
  },
  {
   "cell_type": "code",
   "execution_count": 37,
   "id": "30e58142",
   "metadata": {},
   "outputs": [
    {
     "data": {
      "text/plain": [
       "<AxesSubplot:>"
      ]
     },
     "execution_count": 37,
     "metadata": {},
     "output_type": "execute_result"
    },
    {
     "data": {
      "image/png": "[encoded data removed]",
      "text/plain": [
       "<Figure size 432x288 with 1 Axes>"
      ]
     },
     "metadata": {},
     "output_type": "display_data"
    }
   ],
   "source": [
    "df['Cabin_number'].hist()"
   ]
  },
  {
   "cell_type": "markdown",
   "id": "d839c3cc",
   "metadata": {},
   "source": [
    "# Destination"
   ]
  },
  {
   "cell_type": "code",
   "execution_count": 38,
   "id": "36b6de45",
   "metadata": {
    "scrolled": true
   },
   "outputs": [
    {
     "data": {
      "text/plain": [
       "TRAPPIST-1e      0.698724\n",
       "55 Cancri e      0.208018\n",
       "PSO J318.5-22    0.093258\n",
       "Name: Destination, dtype: float64"
      ]
     },
     "execution_count": 38,
     "metadata": {},
     "output_type": "execute_result"
    }
   ],
   "source": [
    "df['Destination'].value_counts('n')"
   ]
  },
  {
   "cell_type": "markdown",
   "id": "1cf54e51",
   "metadata": {},
   "source": [
    "# Age"
   ]
  },
  {
   "cell_type": "code",
   "execution_count": 39,
   "id": "0f83d0cb",
   "metadata": {},
   "outputs": [
    {
     "data": {
      "text/plain": [
       "<AxesSubplot:>"
      ]
     },
     "execution_count": 39,
     "metadata": {},
     "output_type": "execute_result"
    },
    {
     "data": {
      "image/png": "[encoded data removed]",
      "text/plain": [
       "<Figure size 864x432 with 1 Axes>"
      ]
     },
     "metadata": {},
     "output_type": "display_data"
    }
   ],
   "source": [
    "df['Age'].hist(bins = range(0,100,5), figsize = (12,6))"
   ]
  },
  {
   "cell_type": "markdown",
   "id": "cd94ff44",
   "metadata": {},
   "source": [
    "# VIP"
   ]
  },
  {
   "cell_type": "code",
   "execution_count": 40,
   "id": "a43fea94",
   "metadata": {},
   "outputs": [
    {
     "data": {
      "text/plain": [
       "False    12401\n",
       "True       273\n",
       "Name: VIP, dtype: int64"
      ]
     },
     "execution_count": 40,
     "metadata": {},
     "output_type": "execute_result"
    }
   ],
   "source": [
    "df['VIP'].value_counts()"
   ]
  },
  {
   "cell_type": "markdown",
   "id": "c8aec7ed",
   "metadata": {},
   "source": [
    "# RoomService"
   ]
  },
  {
   "cell_type": "code",
   "execution_count": 41,
   "id": "dec5e43f",
   "metadata": {
    "scrolled": false
   },
   "outputs": [
    {
     "data": {
      "text/plain": [
       "<AxesSubplot:>"
      ]
     },
     "execution_count": 41,
     "metadata": {},
     "output_type": "execute_result"
    },
    {
     "data": {
      "image/png": "[encoded data removed]",
      "text/plain": [
       "<Figure size 864x432 with 1 Axes>"
      ]
     },
     "metadata": {},
     "output_type": "display_data"
    }
   ],
   "source": [
    "df['RoomService'].hist(bins = range(0,15000,300), log = True, figsize = (12,6))"
   ]
  },
  {
   "cell_type": "markdown",
   "id": "b13ee433",
   "metadata": {},
   "source": [
    "# FoodCourt"
   ]
  },
  {
   "cell_type": "code",
   "execution_count": 42,
   "id": "bdf75860",
   "metadata": {
    "scrolled": true
   },
   "outputs": [
    {
     "data": {
      "text/plain": [
       "<AxesSubplot:>"
      ]
     },
     "execution_count": 42,
     "metadata": {},
     "output_type": "execute_result"
    },
    {
     "data": {
      "image/png": "[encoded data removed]",
      "text/plain": [
       "<Figure size 864x432 with 1 Axes>"
      ]
     },
     "metadata": {},
     "output_type": "display_data"
    }
   ],
   "source": [
    "df['FoodCourt'].hist(bins = range(0,30000,1000), log = True, figsize = (12,6))"
   ]
  },
  {
   "cell_type": "markdown",
   "id": "65b57cf0",
   "metadata": {},
   "source": [
    "# ShoppingMall"
   ]
  },
  {
   "cell_type": "code",
   "execution_count": 43,
   "id": "fbfd88c8",
   "metadata": {},
   "outputs": [
    {
     "data": {
      "text/plain": [
       "<AxesSubplot:>"
      ]
     },
     "execution_count": 43,
     "metadata": {},
     "output_type": "execute_result"
    },
    {
     "data": {
      "image/png": "[encoded data removed]",
      "text/plain": [
       "<Figure size 864x432 with 1 Axes>"
      ]
     },
     "metadata": {},
     "output_type": "display_data"
    }
   ],
   "source": [
    "df['ShoppingMall'].hist(bins = 20, log = True, figsize = (12,6))"
   ]
  },
  {
   "cell_type": "markdown",
   "id": "55f532d8",
   "metadata": {},
   "source": [
    "# Spa"
   ]
  },
  {
   "cell_type": "code",
   "execution_count": 44,
   "id": "5dfa8057",
   "metadata": {},
   "outputs": [
    {
     "data": {
      "text/plain": [
       "<AxesSubplot:>"
      ]
     },
     "execution_count": 44,
     "metadata": {},
     "output_type": "execute_result"
    },
    {
     "data": {
      "image/png": "[encoded data removed]",
      "text/plain": [
       "<Figure size 864x432 with 1 Axes>"
      ]
     },
     "metadata": {},
     "output_type": "display_data"
    }
   ],
   "source": [
    "df['Spa'].hist(figsize = (12,6), log = True)"
   ]
  },
  {
   "cell_type": "markdown",
   "id": "e4b4282e",
   "metadata": {},
   "source": [
    "# Total Purchases\n",
    "\n",
    "The sum of amenities"
   ]
  },
  {
   "cell_type": "code",
   "execution_count": 45,
   "id": "7ecda058",
   "metadata": {},
   "outputs": [],
   "source": [
    "# make a new column\n",
    "df['Total_purchases'] = df['RoomService'] + df['FoodCourt'] + df['ShoppingMall'] + df['Spa'] + df['VRDeck']"
   ]
  },
  {
   "cell_type": "code",
   "execution_count": 46,
   "id": "2f5d4ad0",
   "metadata": {},
   "outputs": [
    {
     "data": {
      "text/plain": [
       "<AxesSubplot:>"
      ]
     },
     "execution_count": 46,
     "metadata": {},
     "output_type": "execute_result"
    },
    {
     "data": {
      "image/png": "[encoded data removed]",
      "text/plain": [
       "<Figure size 864x432 with 1 Axes>"
      ]
     },
     "metadata": {},
     "output_type": "display_data"
    }
   ],
   "source": [
    "df['Total_purchases'].hist(bins = 20, log = True, figsize = (12,6))"
   ]
  },
  {
   "cell_type": "markdown",
   "id": "1ef9f5cc",
   "metadata": {},
   "source": [
    "# Name"
   ]
  },
  {
   "cell_type": "code",
   "execution_count": 47,
   "id": "82b5e84f",
   "metadata": {
    "scrolled": false
   },
   "outputs": [
    {
     "data": {
      "text/plain": [
       "0          Maham Ofracculy\n",
       "1             Juanna Vines\n",
       "2            Altark Susent\n",
       "3             Solam Susent\n",
       "4        Willy Santantines\n",
       "               ...        \n",
       "12965          Jeron Peter\n",
       "12966        Matty Scheron\n",
       "12967          Jayrin Pore\n",
       "12968       Kitakan Conale\n",
       "12969     Lilace Leonzaley\n",
       "Name: Name, Length: 12970, dtype: object"
      ]
     },
     "execution_count": 47,
     "metadata": {},
     "output_type": "execute_result"
    }
   ],
   "source": [
    "df['Name']"
   ]
  },
  {
   "cell_type": "markdown",
   "id": "a254b542",
   "metadata": {},
   "source": [
    "### name length, number of name parts\n",
    "\n",
    "Everyone has a first and last name."
   ]
  },
  {
   "cell_type": "code",
   "execution_count": 48,
   "id": "e3bd627f",
   "metadata": {
    "scrolled": true
   },
   "outputs": [],
   "source": [
    "df['Name_length'] = df['Name'].apply(lambda this_name: len(this_name.split()) if type(this_name) == str else np.nan)"
   ]
  },
  {
   "cell_type": "code",
   "execution_count": 49,
   "id": "31e1c0f6",
   "metadata": {
    "scrolled": false
   },
   "outputs": [
    {
     "data": {
      "text/plain": [
       "2.0    12676\n",
       "Name: Name_length, dtype: int64"
      ]
     },
     "execution_count": 49,
     "metadata": {},
     "output_type": "execute_result"
    }
   ],
   "source": [
    "df['Name_length'].value_counts()"
   ]
  },
  {
   "cell_type": "code",
   "execution_count": 50,
   "id": "80014a0d",
   "metadata": {},
   "outputs": [],
   "source": [
    "df['first_name'] = df['Name'].apply(lambda this_name: this_name.split()[0] if type(this_name) == str else np.nan)\n",
    "df['second_name'] = df['Name'].apply(lambda this_name: this_name.split()[1] if type(this_name) == str else np.nan)\n",
    "\n",
    "df['first_name_length'] = df['first_name'].apply(lambda this_name: len(this_name) if type(this_name) ==  str else np.nan)\n",
    "df['second_name_length'] = df['second_name'].apply(lambda this_name: len(this_name) if type(this_name) == str else np.nan)"
   ]
  },
  {
   "cell_type": "code",
   "execution_count": 51,
   "id": "d7b32281",
   "metadata": {
    "scrolled": false
   },
   "outputs": [
    {
     "data": {
      "text/plain": [
       "Text(0.5, 1.0, 'first name lengths')"
      ]
     },
     "execution_count": 51,
     "metadata": {},
     "output_type": "execute_result"
    },
    {
     "data": {
      "image/png": "[encoded data removed]",
      "text/plain": [
       "<Figure size 864x432 with 1 Axes>"
      ]
     },
     "metadata": {},
     "output_type": "display_data"
    }
   ],
   "source": [
    "plt.figure(figsize = (12,6))\n",
    "plt.barh(y=df['first_name_length'].value_counts().index, width = df['first_name_length'].value_counts())\n",
    "plt.title(\"first name lengths\")"
   ]
  },
  {
   "cell_type": "code",
   "execution_count": 52,
   "id": "5a61c948",
   "metadata": {
    "scrolled": true
   },
   "outputs": [
    {
     "data": {
      "text/plain": [
       "Text(0.5, 1.0, 'second name lengths')"
      ]
     },
     "execution_count": 52,
     "metadata": {},
     "output_type": "execute_result"
    },
    {
     "data": {
      "image/png": "[encoded data removed]",
      "text/plain": [
       "<Figure size 864x432 with 1 Axes>"
      ]
     },
     "metadata": {},
     "output_type": "display_data"
    }
   ],
   "source": [
    "plt.figure(figsize = (12,6))\n",
    "plt.barh(y=df['second_name_length'].value_counts().index, width = df['second_name_length'].value_counts())\n",
    "plt.title(\"second name lengths\")"
   ]
  },
  {
   "cell_type": "code",
   "execution_count": 53,
   "id": "d4ab7576",
   "metadata": {
    "scrolled": true
   },
   "outputs": [
    {
     "data": {
      "text/html": [
       "<div>\n",
       "<style scoped>\n",
       "    .dataframe tbody tr th:only-of-type {\n",
       "        vertical-align: middle;\n",
       "    }\n",
       "\n",
       "    .dataframe tbody tr th {\n",
       "        vertical-align: top;\n",
       "    }\n",
       "\n",
       "    .dataframe thead th {\n",
       "        text-align: right;\n",
       "    }\n",
       "</style>\n",
       "<table border=\"1\" class=\"dataframe\">\n",
       "  <thead>\n",
       "    <tr style=\"text-align: right;\">\n",
       "      <th></th>\n",
       "      <th>first_name_length</th>\n",
       "      <th>second_name_length</th>\n",
       "    </tr>\n",
       "  </thead>\n",
       "  <tbody>\n",
       "    <tr>\n",
       "      <th>first_name_length</th>\n",
       "      <td>1.000000</td>\n",
       "      <td>0.219705</td>\n",
       "    </tr>\n",
       "    <tr>\n",
       "      <th>second_name_length</th>\n",
       "      <td>0.219705</td>\n",
       "      <td>1.000000</td>\n",
       "    </tr>\n",
       "  </tbody>\n",
       "</table>\n",
       "</div>"
      ],
      "text/plain": [
       "                    first_name_length  second_name_length\n",
       "first_name_length            1.000000            0.219705\n",
       "second_name_length           0.219705            1.000000"
      ]
     },
     "execution_count": 53,
     "metadata": {},
     "output_type": "execute_result"
    }
   ],
   "source": [
    "#they are weakly correlated.\n",
    "df[['first_name_length', 'second_name_length']].corr()"
   ]
  },
  {
   "cell_type": "markdown",
   "id": "4af70013",
   "metadata": {},
   "source": [
    "### num_vowels"
   ]
  },
  {
   "cell_type": "code",
   "execution_count": 54,
   "id": "7e560b17",
   "metadata": {},
   "outputs": [],
   "source": [
    "# df['first_name_vowels'] = df['first_name'].apply()\n",
    "# df['second_name_vowels'] = df['first_name'].apply()"
   ]
  },
  {
   "cell_type": "markdown",
   "id": "7a094266",
   "metadata": {},
   "source": [
    "### num_syllables"
   ]
  },
  {
   "cell_type": "markdown",
   "id": "3042e8a1",
   "metadata": {},
   "source": [
    "# Transported\n",
    "Almost exactly half of the training set were transported."
   ]
  },
  {
   "cell_type": "code",
   "execution_count": 157,
   "id": "16310ed8",
   "metadata": {
    "scrolled": true
   },
   "outputs": [
    {
     "data": {
      "text/plain": [
       "True     0.503624\n",
       "False    0.496376\n",
       "Name: Transported, dtype: float64"
      ]
     },
     "execution_count": 157,
     "metadata": {},
     "output_type": "execute_result"
    }
   ],
   "source": [
    "df['Transported'].value_counts('d')"
   ]
  },
  {
   "cell_type": "code",
   "execution_count": 158,
   "id": "2d578747",
   "metadata": {
    "scrolled": false
   },
   "outputs": [
    {
     "data": {
      "text/html": [
       "<div>\n",
       "<style scoped>\n",
       "    .dataframe tbody tr th:only-of-type {\n",
       "        vertical-align: middle;\n",
       "    }\n",
       "\n",
       "    .dataframe tbody tr th {\n",
       "        vertical-align: top;\n",
       "    }\n",
       "\n",
       "    .dataframe thead th {\n",
       "        text-align: right;\n",
       "    }\n",
       "</style>\n",
       "<table border=\"1\" class=\"dataframe\">\n",
       "  <thead>\n",
       "    <tr style=\"text-align: right;\">\n",
       "      <th></th>\n",
       "      <th>PassengerId</th>\n",
       "      <th>HomePlanet</th>\n",
       "      <th>CryoSleep</th>\n",
       "      <th>Cabin</th>\n",
       "      <th>Destination</th>\n",
       "      <th>Age</th>\n",
       "      <th>VIP</th>\n",
       "      <th>RoomService</th>\n",
       "      <th>FoodCourt</th>\n",
       "      <th>ShoppingMall</th>\n",
       "      <th>Spa</th>\n",
       "      <th>VRDeck</th>\n",
       "      <th>Name</th>\n",
       "      <th>Transported</th>\n",
       "      <th>PassengerId_format_ok</th>\n",
       "      <th>Group</th>\n",
       "      <th>GroupRank</th>\n",
       "      <th>GroupSize</th>\n",
       "      <th>Cabin_deck</th>\n",
       "      <th>Cabin_number</th>\n",
       "      <th>Cabin_side</th>\n",
       "      <th>Total_purchases</th>\n",
       "      <th>Name_length</th>\n",
       "      <th>first_name</th>\n",
       "      <th>second_name</th>\n",
       "      <th>first_name_length</th>\n",
       "      <th>second_name_length</th>\n",
       "    </tr>\n",
       "  </thead>\n",
       "  <tbody>\n",
       "    <tr>\n",
       "      <th>0</th>\n",
       "      <td>0001_01</td>\n",
       "      <td>Europa</td>\n",
       "      <td>False</td>\n",
       "      <td>B/0/P</td>\n",
       "      <td>TRAPPIST-1e</td>\n",
       "      <td>39.0</td>\n",
       "      <td>False</td>\n",
       "      <td>0.0</td>\n",
       "      <td>0.0</td>\n",
       "      <td>0.0</td>\n",
       "      <td>0.0</td>\n",
       "      <td>0.0</td>\n",
       "      <td>Maham Ofracculy</td>\n",
       "      <td>False</td>\n",
       "      <td>True</td>\n",
       "      <td>1</td>\n",
       "      <td>1</td>\n",
       "      <td>1</td>\n",
       "      <td>B</td>\n",
       "      <td>0.0</td>\n",
       "      <td>P</td>\n",
       "      <td>0.0</td>\n",
       "      <td>2.0</td>\n",
       "      <td>Maham</td>\n",
       "      <td>Ofracculy</td>\n",
       "      <td>5.0</td>\n",
       "      <td>9.0</td>\n",
       "    </tr>\n",
       "    <tr>\n",
       "      <th>1</th>\n",
       "      <td>0002_01</td>\n",
       "      <td>Earth</td>\n",
       "      <td>False</td>\n",
       "      <td>F/0/S</td>\n",
       "      <td>TRAPPIST-1e</td>\n",
       "      <td>24.0</td>\n",
       "      <td>False</td>\n",
       "      <td>109.0</td>\n",
       "      <td>9.0</td>\n",
       "      <td>25.0</td>\n",
       "      <td>549.0</td>\n",
       "      <td>44.0</td>\n",
       "      <td>Juanna Vines</td>\n",
       "      <td>True</td>\n",
       "      <td>True</td>\n",
       "      <td>2</td>\n",
       "      <td>1</td>\n",
       "      <td>1</td>\n",
       "      <td>F</td>\n",
       "      <td>0.0</td>\n",
       "      <td>S</td>\n",
       "      <td>736.0</td>\n",
       "      <td>2.0</td>\n",
       "      <td>Juanna</td>\n",
       "      <td>Vines</td>\n",
       "      <td>6.0</td>\n",
       "      <td>5.0</td>\n",
       "    </tr>\n",
       "    <tr>\n",
       "      <th>2</th>\n",
       "      <td>0003_01</td>\n",
       "      <td>Europa</td>\n",
       "      <td>False</td>\n",
       "      <td>A/0/S</td>\n",
       "      <td>TRAPPIST-1e</td>\n",
       "      <td>58.0</td>\n",
       "      <td>True</td>\n",
       "      <td>43.0</td>\n",
       "      <td>3576.0</td>\n",
       "      <td>0.0</td>\n",
       "      <td>6715.0</td>\n",
       "      <td>49.0</td>\n",
       "      <td>Altark Susent</td>\n",
       "      <td>False</td>\n",
       "      <td>True</td>\n",
       "      <td>3</td>\n",
       "      <td>1</td>\n",
       "      <td>2</td>\n",
       "      <td>A</td>\n",
       "      <td>0.0</td>\n",
       "      <td>S</td>\n",
       "      <td>10383.0</td>\n",
       "      <td>2.0</td>\n",
       "      <td>Altark</td>\n",
       "      <td>Susent</td>\n",
       "      <td>6.0</td>\n",
       "      <td>6.0</td>\n",
       "    </tr>\n",
       "    <tr>\n",
       "      <th>3</th>\n",
       "      <td>0003_02</td>\n",
       "      <td>Europa</td>\n",
       "      <td>False</td>\n",
       "      <td>A/0/S</td>\n",
       "      <td>TRAPPIST-1e</td>\n",
       "      <td>33.0</td>\n",
       "      <td>False</td>\n",
       "      <td>0.0</td>\n",
       "      <td>1283.0</td>\n",
       "      <td>371.0</td>\n",
       "      <td>3329.0</td>\n",
       "      <td>193.0</td>\n",
       "      <td>Solam Susent</td>\n",
       "      <td>False</td>\n",
       "      <td>True</td>\n",
       "      <td>3</td>\n",
       "      <td>2</td>\n",
       "      <td>2</td>\n",
       "      <td>A</td>\n",
       "      <td>0.0</td>\n",
       "      <td>S</td>\n",
       "      <td>5176.0</td>\n",
       "      <td>2.0</td>\n",
       "      <td>Solam</td>\n",
       "      <td>Susent</td>\n",
       "      <td>5.0</td>\n",
       "      <td>6.0</td>\n",
       "    </tr>\n",
       "    <tr>\n",
       "      <th>4</th>\n",
       "      <td>0004_01</td>\n",
       "      <td>Earth</td>\n",
       "      <td>False</td>\n",
       "      <td>F/1/S</td>\n",
       "      <td>TRAPPIST-1e</td>\n",
       "      <td>16.0</td>\n",
       "      <td>False</td>\n",
       "      <td>303.0</td>\n",
       "      <td>70.0</td>\n",
       "      <td>151.0</td>\n",
       "      <td>565.0</td>\n",
       "      <td>2.0</td>\n",
       "      <td>Willy Santantines</td>\n",
       "      <td>True</td>\n",
       "      <td>True</td>\n",
       "      <td>4</td>\n",
       "      <td>1</td>\n",
       "      <td>1</td>\n",
       "      <td>F</td>\n",
       "      <td>1.0</td>\n",
       "      <td>S</td>\n",
       "      <td>1091.0</td>\n",
       "      <td>2.0</td>\n",
       "      <td>Willy</td>\n",
       "      <td>Santantines</td>\n",
       "      <td>5.0</td>\n",
       "      <td>11.0</td>\n",
       "    </tr>\n",
       "    <tr>\n",
       "      <th>...</th>\n",
       "      <td>...</td>\n",
       "      <td>...</td>\n",
       "      <td>...</td>\n",
       "      <td>...</td>\n",
       "      <td>...</td>\n",
       "      <td>...</td>\n",
       "      <td>...</td>\n",
       "      <td>...</td>\n",
       "      <td>...</td>\n",
       "      <td>...</td>\n",
       "      <td>...</td>\n",
       "      <td>...</td>\n",
       "      <td>...</td>\n",
       "      <td>...</td>\n",
       "      <td>...</td>\n",
       "      <td>...</td>\n",
       "      <td>...</td>\n",
       "      <td>...</td>\n",
       "      <td>...</td>\n",
       "      <td>...</td>\n",
       "      <td>...</td>\n",
       "      <td>...</td>\n",
       "      <td>...</td>\n",
       "      <td>...</td>\n",
       "      <td>...</td>\n",
       "      <td>...</td>\n",
       "      <td>...</td>\n",
       "    </tr>\n",
       "    <tr>\n",
       "      <th>12965</th>\n",
       "      <td>9266_02</td>\n",
       "      <td>Earth</td>\n",
       "      <td>True</td>\n",
       "      <td>G/1496/S</td>\n",
       "      <td>TRAPPIST-1e</td>\n",
       "      <td>34.0</td>\n",
       "      <td>False</td>\n",
       "      <td>0.0</td>\n",
       "      <td>0.0</td>\n",
       "      <td>0.0</td>\n",
       "      <td>0.0</td>\n",
       "      <td>0.0</td>\n",
       "      <td>Jeron Peter</td>\n",
       "      <td>NaN</td>\n",
       "      <td>True</td>\n",
       "      <td>9266</td>\n",
       "      <td>2</td>\n",
       "      <td>2</td>\n",
       "      <td>G</td>\n",
       "      <td>1496.0</td>\n",
       "      <td>S</td>\n",
       "      <td>0.0</td>\n",
       "      <td>2.0</td>\n",
       "      <td>Jeron</td>\n",
       "      <td>Peter</td>\n",
       "      <td>5.0</td>\n",
       "      <td>5.0</td>\n",
       "    </tr>\n",
       "    <tr>\n",
       "      <th>12966</th>\n",
       "      <td>9269_01</td>\n",
       "      <td>Earth</td>\n",
       "      <td>False</td>\n",
       "      <td>NaN</td>\n",
       "      <td>TRAPPIST-1e</td>\n",
       "      <td>42.0</td>\n",
       "      <td>False</td>\n",
       "      <td>0.0</td>\n",
       "      <td>847.0</td>\n",
       "      <td>17.0</td>\n",
       "      <td>10.0</td>\n",
       "      <td>144.0</td>\n",
       "      <td>Matty Scheron</td>\n",
       "      <td>NaN</td>\n",
       "      <td>True</td>\n",
       "      <td>9269</td>\n",
       "      <td>1</td>\n",
       "      <td>1</td>\n",
       "      <td>NaN</td>\n",
       "      <td>NaN</td>\n",
       "      <td>NaN</td>\n",
       "      <td>1018.0</td>\n",
       "      <td>2.0</td>\n",
       "      <td>Matty</td>\n",
       "      <td>Scheron</td>\n",
       "      <td>5.0</td>\n",
       "      <td>7.0</td>\n",
       "    </tr>\n",
       "    <tr>\n",
       "      <th>12967</th>\n",
       "      <td>9271_01</td>\n",
       "      <td>Mars</td>\n",
       "      <td>True</td>\n",
       "      <td>D/296/P</td>\n",
       "      <td>55 Cancri e</td>\n",
       "      <td>NaN</td>\n",
       "      <td>False</td>\n",
       "      <td>0.0</td>\n",
       "      <td>0.0</td>\n",
       "      <td>0.0</td>\n",
       "      <td>0.0</td>\n",
       "      <td>0.0</td>\n",
       "      <td>Jayrin Pore</td>\n",
       "      <td>NaN</td>\n",
       "      <td>True</td>\n",
       "      <td>9271</td>\n",
       "      <td>1</td>\n",
       "      <td>1</td>\n",
       "      <td>D</td>\n",
       "      <td>296.0</td>\n",
       "      <td>P</td>\n",
       "      <td>0.0</td>\n",
       "      <td>2.0</td>\n",
       "      <td>Jayrin</td>\n",
       "      <td>Pore</td>\n",
       "      <td>6.0</td>\n",
       "      <td>4.0</td>\n",
       "    </tr>\n",
       "    <tr>\n",
       "      <th>12968</th>\n",
       "      <td>9273_01</td>\n",
       "      <td>Europa</td>\n",
       "      <td>False</td>\n",
       "      <td>D/297/P</td>\n",
       "      <td>NaN</td>\n",
       "      <td>NaN</td>\n",
       "      <td>False</td>\n",
       "      <td>0.0</td>\n",
       "      <td>2680.0</td>\n",
       "      <td>0.0</td>\n",
       "      <td>0.0</td>\n",
       "      <td>523.0</td>\n",
       "      <td>Kitakan Conale</td>\n",
       "      <td>NaN</td>\n",
       "      <td>True</td>\n",
       "      <td>9273</td>\n",
       "      <td>1</td>\n",
       "      <td>1</td>\n",
       "      <td>D</td>\n",
       "      <td>297.0</td>\n",
       "      <td>P</td>\n",
       "      <td>3203.0</td>\n",
       "      <td>2.0</td>\n",
       "      <td>Kitakan</td>\n",
       "      <td>Conale</td>\n",
       "      <td>7.0</td>\n",
       "      <td>6.0</td>\n",
       "    </tr>\n",
       "    <tr>\n",
       "      <th>12969</th>\n",
       "      <td>9277_01</td>\n",
       "      <td>Earth</td>\n",
       "      <td>True</td>\n",
       "      <td>G/1498/S</td>\n",
       "      <td>PSO J318.5-22</td>\n",
       "      <td>43.0</td>\n",
       "      <td>False</td>\n",
       "      <td>0.0</td>\n",
       "      <td>0.0</td>\n",
       "      <td>0.0</td>\n",
       "      <td>0.0</td>\n",
       "      <td>0.0</td>\n",
       "      <td>Lilace Leonzaley</td>\n",
       "      <td>NaN</td>\n",
       "      <td>True</td>\n",
       "      <td>9277</td>\n",
       "      <td>1</td>\n",
       "      <td>1</td>\n",
       "      <td>G</td>\n",
       "      <td>1498.0</td>\n",
       "      <td>S</td>\n",
       "      <td>0.0</td>\n",
       "      <td>2.0</td>\n",
       "      <td>Lilace</td>\n",
       "      <td>Leonzaley</td>\n",
       "      <td>6.0</td>\n",
       "      <td>9.0</td>\n",
       "    </tr>\n",
       "  </tbody>\n",
       "</table>\n",
       "<p>12970 rows × 27 columns</p>\n",
       "</div>"
      ],
      "text/plain": [
       "      PassengerId HomePlanet CryoSleep     Cabin    Destination   Age    VIP  \\\n",
       "0         0001_01     Europa     False     B/0/P    TRAPPIST-1e  39.0  False   \n",
       "1         0002_01      Earth     False     F/0/S    TRAPPIST-1e  24.0  False   \n",
       "2         0003_01     Europa     False     A/0/S    TRAPPIST-1e  58.0   True   \n",
       "3         0003_02     Europa     False     A/0/S    TRAPPIST-1e  33.0  False   \n",
       "4         0004_01      Earth     False     F/1/S    TRAPPIST-1e  16.0  False   \n",
       "...           ...        ...       ...       ...            ...   ...    ...   \n",
       "12965     9266_02      Earth      True  G/1496/S    TRAPPIST-1e  34.0  False   \n",
       "12966     9269_01      Earth     False       NaN    TRAPPIST-1e  42.0  False   \n",
       "12967     9271_01       Mars      True   D/296/P    55 Cancri e   NaN  False   \n",
       "12968     9273_01     Europa     False   D/297/P            NaN   NaN  False   \n",
       "12969     9277_01      Earth      True  G/1498/S  PSO J318.5-22  43.0  False   \n",
       "\n",
       "       RoomService  FoodCourt  ShoppingMall     Spa  VRDeck  \\\n",
       "0              0.0        0.0           0.0     0.0     0.0   \n",
       "1            109.0        9.0          25.0   549.0    44.0   \n",
       "2             43.0     3576.0           0.0  6715.0    49.0   \n",
       "3              0.0     1283.0         371.0  3329.0   193.0   \n",
       "4            303.0       70.0         151.0   565.0     2.0   \n",
       "...            ...        ...           ...     ...     ...   \n",
       "12965          0.0        0.0           0.0     0.0     0.0   \n",
       "12966          0.0      847.0          17.0    10.0   144.0   \n",
       "12967          0.0        0.0           0.0     0.0     0.0   \n",
       "12968          0.0     2680.0           0.0     0.0   523.0   \n",
       "12969          0.0        0.0           0.0     0.0     0.0   \n",
       "\n",
       "                    Name Transported  PassengerId_format_ok  Group  GroupRank  \\\n",
       "0        Maham Ofracculy       False                   True      1          1   \n",
       "1           Juanna Vines        True                   True      2          1   \n",
       "2          Altark Susent       False                   True      3          1   \n",
       "3           Solam Susent       False                   True      3          2   \n",
       "4      Willy Santantines        True                   True      4          1   \n",
       "...                  ...         ...                    ...    ...        ...   \n",
       "12965        Jeron Peter         NaN                   True   9266          2   \n",
       "12966      Matty Scheron         NaN                   True   9269          1   \n",
       "12967        Jayrin Pore         NaN                   True   9271          1   \n",
       "12968     Kitakan Conale         NaN                   True   9273          1   \n",
       "12969   Lilace Leonzaley         NaN                   True   9277          1   \n",
       "\n",
       "       GroupSize Cabin_deck  Cabin_number Cabin_side  Total_purchases  \\\n",
       "0              1          B           0.0          P              0.0   \n",
       "1              1          F           0.0          S            736.0   \n",
       "2              2          A           0.0          S          10383.0   \n",
       "3              2          A           0.0          S           5176.0   \n",
       "4              1          F           1.0          S           1091.0   \n",
       "...          ...        ...           ...        ...              ...   \n",
       "12965          2          G        1496.0          S              0.0   \n",
       "12966          1        NaN           NaN        NaN           1018.0   \n",
       "12967          1          D         296.0          P              0.0   \n",
       "12968          1          D         297.0          P           3203.0   \n",
       "12969          1          G        1498.0          S              0.0   \n",
       "\n",
       "       Name_length first_name  second_name  first_name_length  \\\n",
       "0              2.0      Maham    Ofracculy                5.0   \n",
       "1              2.0     Juanna        Vines                6.0   \n",
       "2              2.0     Altark       Susent                6.0   \n",
       "3              2.0      Solam       Susent                5.0   \n",
       "4              2.0      Willy  Santantines                5.0   \n",
       "...            ...        ...          ...                ...   \n",
       "12965          2.0      Jeron        Peter                5.0   \n",
       "12966          2.0      Matty      Scheron                5.0   \n",
       "12967          2.0     Jayrin         Pore                6.0   \n",
       "12968          2.0    Kitakan       Conale                7.0   \n",
       "12969          2.0     Lilace    Leonzaley                6.0   \n",
       "\n",
       "       second_name_length  \n",
       "0                     9.0  \n",
       "1                     5.0  \n",
       "2                     6.0  \n",
       "3                     6.0  \n",
       "4                    11.0  \n",
       "...                   ...  \n",
       "12965                 5.0  \n",
       "12966                 7.0  \n",
       "12967                 4.0  \n",
       "12968                 6.0  \n",
       "12969                 9.0  \n",
       "\n",
       "[12970 rows x 27 columns]"
      ]
     },
     "execution_count": 158,
     "metadata": {},
     "output_type": "execute_result"
    }
   ],
   "source": [
    "df"
   ]
  },
  {
   "cell_type": "markdown",
   "id": "97f5b7cc",
   "metadata": {},
   "source": [
    "TTS\n",
    "---"
   ]
  },
  {
   "cell_type": "markdown",
   "id": "9674158e",
   "metadata": {},
   "source": [
    "Just a first step."
   ]
  },
  {
   "cell_type": "code",
   "execution_count": 162,
   "id": "0e756521",
   "metadata": {},
   "outputs": [],
   "source": [
    "logitdf = pd.get_dummies(df, columns = ['Destination', 'HomePlanet','Cabin_deck', 'Cabin_side'], drop_first = True).drop(columns = ['PassengerId', 'Cabin', 'Name', 'first_name', 'second_name', 'PassengerId_format_ok', 'Group'])"
   ]
  },
  {
   "cell_type": "code",
   "execution_count": 164,
   "id": "3fc54a25",
   "metadata": {
    "scrolled": true
   },
   "outputs": [
    {
     "name": "stdout",
     "output_type": "stream",
     "text": [
      "<class 'pandas.core.frame.DataFrame'>\n",
      "RangeIndex: 12970 entries, 0 to 12969\n",
      "Data columns (total 28 columns):\n",
      " #   Column                     Non-Null Count  Dtype  \n",
      "---  ------                     --------------  -----  \n",
      " 0   CryoSleep                  12660 non-null  object \n",
      " 1   Age                        12700 non-null  float64\n",
      " 2   VIP                        12674 non-null  object \n",
      " 3   RoomService                12707 non-null  float64\n",
      " 4   FoodCourt                  12681 non-null  float64\n",
      " 5   ShoppingMall               12664 non-null  float64\n",
      " 6   Spa                        12686 non-null  float64\n",
      " 7   VRDeck                     12702 non-null  float64\n",
      " 8   Transported                8693 non-null   object \n",
      " 9   GroupRank                  12970 non-null  int64  \n",
      " 10  GroupSize                  12970 non-null  int64  \n",
      " 11  Cabin_number               12671 non-null  float64\n",
      " 12  Total_purchases            11607 non-null  float64\n",
      " 13  Name_length                12676 non-null  float64\n",
      " 14  first_name_length          12676 non-null  float64\n",
      " 15  second_name_length         12676 non-null  float64\n",
      " 16  Destination_PSO J318.5-22  12970 non-null  uint8  \n",
      " 17  Destination_TRAPPIST-1e    12970 non-null  uint8  \n",
      " 18  HomePlanet_Europa          12970 non-null  uint8  \n",
      " 19  HomePlanet_Mars            12970 non-null  uint8  \n",
      " 20  Cabin_deck_B               12970 non-null  uint8  \n",
      " 21  Cabin_deck_C               12970 non-null  uint8  \n",
      " 22  Cabin_deck_D               12970 non-null  uint8  \n",
      " 23  Cabin_deck_E               12970 non-null  uint8  \n",
      " 24  Cabin_deck_F               12970 non-null  uint8  \n",
      " 25  Cabin_deck_G               12970 non-null  uint8  \n",
      " 26  Cabin_deck_T               12970 non-null  uint8  \n",
      " 27  Cabin_side_S               12970 non-null  uint8  \n",
      "dtypes: float64(11), int64(2), object(3), uint8(12)\n",
      "memory usage: 1.7+ MB\n"
     ]
    }
   ],
   "source": [
    "logitdf.info()"
   ]
  },
  {
   "cell_type": "code",
   "execution_count": 166,
   "id": "be65ebb6",
   "metadata": {
    "scrolled": false
   },
   "outputs": [
    {
     "data": {
      "text/plain": [
       "['CryoSleep',\n",
       " 'Age',\n",
       " 'VIP',\n",
       " 'RoomService',\n",
       " 'FoodCourt',\n",
       " 'ShoppingMall',\n",
       " 'Spa',\n",
       " 'VRDeck',\n",
       " 'Transported',\n",
       " 'Cabin_number',\n",
       " 'Total_purchases',\n",
       " 'Name_length',\n",
       " 'first_name_length',\n",
       " 'second_name_length']"
      ]
     },
     "execution_count": 166,
     "metadata": {},
     "output_type": "execute_result"
    }
   ],
   "source": [
    "columns_with_nulls = [\n",
    "    column for column in logitdf.columns\n",
    "    if logitdf[column].isna().sum() > 0\n",
    "]\n",
    "columns_with_nulls"
   ]
  },
  {
   "cell_type": "code",
   "execution_count": 167,
   "id": "b9e79d22",
   "metadata": {},
   "outputs": [],
   "source": [
    "for column in columns_with_nulls:\n",
    "    logitdf[column + '_is_null'] = logitdf[column].isna()\n",
    "    "
   ]
  },
  {
   "cell_type": "code",
   "execution_count": 170,
   "id": "ea5bedbb",
   "metadata": {},
   "outputs": [],
   "source": [
    "logitdf = logitdf.astype('float32')\n",
    "logitdf.fillna(0, inplace=True)"
   ]
  },
  {
   "cell_type": "code",
   "execution_count": 185,
   "id": "814c88f7",
   "metadata": {},
   "outputs": [],
   "source": [
    "X = logitdf[~logitdf['Transported_is_null'].astype(bool)].drop(columns = 'Transported')\n",
    "y = logitdf[~logitdf['Transported_is_null'].astype(bool)]['Transported']\n",
    "\n",
    "X_train, X_test, y_train, y_test = train_test_split(X, y, train_size= 0.8, random_state = 42)"
   ]
  },
  {
   "cell_type": "markdown",
   "id": "e3feccc8",
   "metadata": {},
   "source": [
    "# Logistic Regression\n",
    "a first step"
   ]
  },
  {
   "cell_type": "code",
   "execution_count": 194,
   "id": "b6816575",
   "metadata": {},
   "outputs": [],
   "source": [
    "from sklearn.model_selection import train_test_split\n",
    "from sklearn.linear_model import LogisticRegressionCV"
   ]
  },
  {
   "cell_type": "code",
   "execution_count": 195,
   "id": "73350671",
   "metadata": {},
   "outputs": [],
   "source": [
    "lr = LogisticRegressionCV(\n",
    "    Cs=np.logspace(-3,3,7),\n",
    "    cv=5,\n",
    "    penalty='elasticnet',\n",
    "    scoring='accuracy',\n",
    "    solver='saga',\n",
    "    max_iter=10000,\n",
    "    n_jobs=-1,\n",
    "    l1_ratios=np.linspace(0,1,10)\n",
    ")"
   ]
  },
  {
   "cell_type": "code",
   "execution_count": 198,
   "id": "4bd62dae",
   "metadata": {},
   "outputs": [
    {
     "name": "stdout",
     "output_type": "stream",
     "text": [
      "Wall time: 2min 25s\n"
     ]
    },
    {
     "data": {
      "text/plain": [
       "LogisticRegressionCV(Cs=array([1.e-03, 1.e-02, 1.e-01, 1.e+00, 1.e+01, 1.e+02, 1.e+03]),\n",
       "                     cv=5,\n",
       "                     l1_ratios=array([0.        , 0.11111111, 0.22222222, 0.33333333, 0.44444444,\n",
       "       0.55555556, 0.66666667, 0.77777778, 0.88888889, 1.        ]),\n",
       "                     max_iter=10000, n_jobs=-1, penalty='elasticnet',\n",
       "                     scoring='accuracy', solver='saga')"
      ]
     },
     "execution_count": 198,
     "metadata": {},
     "output_type": "execute_result"
    }
   ],
   "source": [
    "%%time\n",
    "lr.fit(X_train, y_train)"
   ]
  },
  {
   "cell_type": "code",
   "execution_count": null,
   "id": "bf3fe6a6",
   "metadata": {},
   "outputs": [],
   "source": [
    "lr.score(X_train, y_train), lr.score(X_test, y_test)"
   ]
  },
  {
   "cell_type": "code",
   "execution_count": 79,
   "id": "54ce0d6d",
   "metadata": {},
   "outputs": [],
   "source": [
    "import pickle"
   ]
  },
  {
   "cell_type": "code",
   "execution_count": 80,
   "id": "02b6b115",
   "metadata": {},
   "outputs": [],
   "source": [
    "with open('./first_logistic_regresion.pkl', 'wb') as file:\n",
    "    file.write(pickle.dumps(lr))"
   ]
  },
  {
   "cell_type": "code",
   "execution_count": 81,
   "id": "c289a886",
   "metadata": {},
   "outputs": [],
   "source": [
    "with open('./first_logistic_regresion.pkl', 'rb') as file:\n",
    "    ha = pickle.loads(file.read())"
   ]
  },
  {
   "cell_type": "code",
   "execution_count": 82,
   "id": "17b528cc",
   "metadata": {},
   "outputs": [
    {
     "data": {
      "text/plain": [
       "(0.6967039321511179, 0.6931380107941403)"
      ]
     },
     "execution_count": 82,
     "metadata": {},
     "output_type": "execute_result"
    }
   ],
   "source": [
    "ha.score(X_train, y_train), ha.score(X_test, y_test)"
   ]
  },
  {
   "cell_type": "markdown",
   "id": "48080f15",
   "metadata": {},
   "source": [
    "An ok start. The top leaderboards are around 0.81."
   ]
  },
  {
   "cell_type": "markdown",
   "id": "80b67bdb",
   "metadata": {},
   "source": [
    "# keras"
   ]
  },
  {
   "cell_type": "code",
   "execution_count": 175,
   "id": "a96d9366",
   "metadata": {
    "scrolled": true
   },
   "outputs": [
    {
     "data": {
      "text/html": [
       "<div>\n",
       "<style scoped>\n",
       "    .dataframe tbody tr th:only-of-type {\n",
       "        vertical-align: middle;\n",
       "    }\n",
       "\n",
       "    .dataframe tbody tr th {\n",
       "        vertical-align: top;\n",
       "    }\n",
       "\n",
       "    .dataframe thead th {\n",
       "        text-align: right;\n",
       "    }\n",
       "</style>\n",
       "<table border=\"1\" class=\"dataframe\">\n",
       "  <thead>\n",
       "    <tr style=\"text-align: right;\">\n",
       "      <th></th>\n",
       "      <th>CryoSleep</th>\n",
       "      <th>Age</th>\n",
       "      <th>VIP</th>\n",
       "      <th>RoomService</th>\n",
       "      <th>FoodCourt</th>\n",
       "      <th>ShoppingMall</th>\n",
       "      <th>Spa</th>\n",
       "      <th>VRDeck</th>\n",
       "      <th>GroupRank</th>\n",
       "      <th>GroupSize</th>\n",
       "      <th>Cabin_number</th>\n",
       "      <th>Total_purchases</th>\n",
       "      <th>Name_length</th>\n",
       "      <th>first_name_length</th>\n",
       "      <th>second_name_length</th>\n",
       "      <th>...</th>\n",
       "      <th>Age_is_null</th>\n",
       "      <th>VIP_is_null</th>\n",
       "      <th>RoomService_is_null</th>\n",
       "      <th>FoodCourt_is_null</th>\n",
       "      <th>ShoppingMall_is_null</th>\n",
       "      <th>Spa_is_null</th>\n",
       "      <th>VRDeck_is_null</th>\n",
       "      <th>Transported_is_null</th>\n",
       "      <th>Cabin_number_is_null</th>\n",
       "      <th>Total_purchases_is_null</th>\n",
       "      <th>Name_length_is_null</th>\n",
       "      <th>first_name_length_is_null</th>\n",
       "      <th>second_name_length_is_null</th>\n",
       "      <th>Transported_0.0</th>\n",
       "      <th>Transported_1.0</th>\n",
       "    </tr>\n",
       "  </thead>\n",
       "  <tbody>\n",
       "    <tr>\n",
       "      <th>0</th>\n",
       "      <td>0.0</td>\n",
       "      <td>39.0</td>\n",
       "      <td>0.0</td>\n",
       "      <td>0.0</td>\n",
       "      <td>0.0</td>\n",
       "      <td>0.0</td>\n",
       "      <td>0.0</td>\n",
       "      <td>0.0</td>\n",
       "      <td>1.0</td>\n",
       "      <td>1.0</td>\n",
       "      <td>0.0</td>\n",
       "      <td>0.0</td>\n",
       "      <td>2.0</td>\n",
       "      <td>5.0</td>\n",
       "      <td>9.0</td>\n",
       "      <td>...</td>\n",
       "      <td>0.0</td>\n",
       "      <td>0.0</td>\n",
       "      <td>0.0</td>\n",
       "      <td>0.0</td>\n",
       "      <td>0.0</td>\n",
       "      <td>0.0</td>\n",
       "      <td>0.0</td>\n",
       "      <td>0.0</td>\n",
       "      <td>0.0</td>\n",
       "      <td>0.0</td>\n",
       "      <td>0.0</td>\n",
       "      <td>0.0</td>\n",
       "      <td>0.0</td>\n",
       "      <td>1</td>\n",
       "      <td>0</td>\n",
       "    </tr>\n",
       "    <tr>\n",
       "      <th>1</th>\n",
       "      <td>0.0</td>\n",
       "      <td>24.0</td>\n",
       "      <td>0.0</td>\n",
       "      <td>109.0</td>\n",
       "      <td>9.0</td>\n",
       "      <td>25.0</td>\n",
       "      <td>549.0</td>\n",
       "      <td>44.0</td>\n",
       "      <td>1.0</td>\n",
       "      <td>1.0</td>\n",
       "      <td>0.0</td>\n",
       "      <td>736.0</td>\n",
       "      <td>2.0</td>\n",
       "      <td>6.0</td>\n",
       "      <td>5.0</td>\n",
       "      <td>...</td>\n",
       "      <td>0.0</td>\n",
       "      <td>0.0</td>\n",
       "      <td>0.0</td>\n",
       "      <td>0.0</td>\n",
       "      <td>0.0</td>\n",
       "      <td>0.0</td>\n",
       "      <td>0.0</td>\n",
       "      <td>0.0</td>\n",
       "      <td>0.0</td>\n",
       "      <td>0.0</td>\n",
       "      <td>0.0</td>\n",
       "      <td>0.0</td>\n",
       "      <td>0.0</td>\n",
       "      <td>0</td>\n",
       "      <td>1</td>\n",
       "    </tr>\n",
       "    <tr>\n",
       "      <th>2</th>\n",
       "      <td>0.0</td>\n",
       "      <td>58.0</td>\n",
       "      <td>1.0</td>\n",
       "      <td>43.0</td>\n",
       "      <td>3576.0</td>\n",
       "      <td>0.0</td>\n",
       "      <td>6715.0</td>\n",
       "      <td>49.0</td>\n",
       "      <td>1.0</td>\n",
       "      <td>2.0</td>\n",
       "      <td>0.0</td>\n",
       "      <td>10383.0</td>\n",
       "      <td>2.0</td>\n",
       "      <td>6.0</td>\n",
       "      <td>6.0</td>\n",
       "      <td>...</td>\n",
       "      <td>0.0</td>\n",
       "      <td>0.0</td>\n",
       "      <td>0.0</td>\n",
       "      <td>0.0</td>\n",
       "      <td>0.0</td>\n",
       "      <td>0.0</td>\n",
       "      <td>0.0</td>\n",
       "      <td>0.0</td>\n",
       "      <td>0.0</td>\n",
       "      <td>0.0</td>\n",
       "      <td>0.0</td>\n",
       "      <td>0.0</td>\n",
       "      <td>0.0</td>\n",
       "      <td>1</td>\n",
       "      <td>0</td>\n",
       "    </tr>\n",
       "    <tr>\n",
       "      <th>3</th>\n",
       "      <td>0.0</td>\n",
       "      <td>33.0</td>\n",
       "      <td>0.0</td>\n",
       "      <td>0.0</td>\n",
       "      <td>1283.0</td>\n",
       "      <td>371.0</td>\n",
       "      <td>3329.0</td>\n",
       "      <td>193.0</td>\n",
       "      <td>2.0</td>\n",
       "      <td>2.0</td>\n",
       "      <td>0.0</td>\n",
       "      <td>5176.0</td>\n",
       "      <td>2.0</td>\n",
       "      <td>5.0</td>\n",
       "      <td>6.0</td>\n",
       "      <td>...</td>\n",
       "      <td>0.0</td>\n",
       "      <td>0.0</td>\n",
       "      <td>0.0</td>\n",
       "      <td>0.0</td>\n",
       "      <td>0.0</td>\n",
       "      <td>0.0</td>\n",
       "      <td>0.0</td>\n",
       "      <td>0.0</td>\n",
       "      <td>0.0</td>\n",
       "      <td>0.0</td>\n",
       "      <td>0.0</td>\n",
       "      <td>0.0</td>\n",
       "      <td>0.0</td>\n",
       "      <td>1</td>\n",
       "      <td>0</td>\n",
       "    </tr>\n",
       "    <tr>\n",
       "      <th>4</th>\n",
       "      <td>0.0</td>\n",
       "      <td>16.0</td>\n",
       "      <td>0.0</td>\n",
       "      <td>303.0</td>\n",
       "      <td>70.0</td>\n",
       "      <td>151.0</td>\n",
       "      <td>565.0</td>\n",
       "      <td>2.0</td>\n",
       "      <td>1.0</td>\n",
       "      <td>1.0</td>\n",
       "      <td>1.0</td>\n",
       "      <td>1091.0</td>\n",
       "      <td>2.0</td>\n",
       "      <td>5.0</td>\n",
       "      <td>11.0</td>\n",
       "      <td>...</td>\n",
       "      <td>0.0</td>\n",
       "      <td>0.0</td>\n",
       "      <td>0.0</td>\n",
       "      <td>0.0</td>\n",
       "      <td>0.0</td>\n",
       "      <td>0.0</td>\n",
       "      <td>0.0</td>\n",
       "      <td>0.0</td>\n",
       "      <td>0.0</td>\n",
       "      <td>0.0</td>\n",
       "      <td>0.0</td>\n",
       "      <td>0.0</td>\n",
       "      <td>0.0</td>\n",
       "      <td>0</td>\n",
       "      <td>1</td>\n",
       "    </tr>\n",
       "    <tr>\n",
       "      <th>...</th>\n",
       "      <td>...</td>\n",
       "      <td>...</td>\n",
       "      <td>...</td>\n",
       "      <td>...</td>\n",
       "      <td>...</td>\n",
       "      <td>...</td>\n",
       "      <td>...</td>\n",
       "      <td>...</td>\n",
       "      <td>...</td>\n",
       "      <td>...</td>\n",
       "      <td>...</td>\n",
       "      <td>...</td>\n",
       "      <td>...</td>\n",
       "      <td>...</td>\n",
       "      <td>...</td>\n",
       "      <td>...</td>\n",
       "      <td>...</td>\n",
       "      <td>...</td>\n",
       "      <td>...</td>\n",
       "      <td>...</td>\n",
       "      <td>...</td>\n",
       "      <td>...</td>\n",
       "      <td>...</td>\n",
       "      <td>...</td>\n",
       "      <td>...</td>\n",
       "      <td>...</td>\n",
       "      <td>...</td>\n",
       "      <td>...</td>\n",
       "      <td>...</td>\n",
       "      <td>...</td>\n",
       "      <td>...</td>\n",
       "    </tr>\n",
       "    <tr>\n",
       "      <th>12965</th>\n",
       "      <td>1.0</td>\n",
       "      <td>34.0</td>\n",
       "      <td>0.0</td>\n",
       "      <td>0.0</td>\n",
       "      <td>0.0</td>\n",
       "      <td>0.0</td>\n",
       "      <td>0.0</td>\n",
       "      <td>0.0</td>\n",
       "      <td>2.0</td>\n",
       "      <td>2.0</td>\n",
       "      <td>1496.0</td>\n",
       "      <td>0.0</td>\n",
       "      <td>2.0</td>\n",
       "      <td>5.0</td>\n",
       "      <td>5.0</td>\n",
       "      <td>...</td>\n",
       "      <td>0.0</td>\n",
       "      <td>0.0</td>\n",
       "      <td>0.0</td>\n",
       "      <td>0.0</td>\n",
       "      <td>0.0</td>\n",
       "      <td>0.0</td>\n",
       "      <td>0.0</td>\n",
       "      <td>1.0</td>\n",
       "      <td>0.0</td>\n",
       "      <td>0.0</td>\n",
       "      <td>0.0</td>\n",
       "      <td>0.0</td>\n",
       "      <td>0.0</td>\n",
       "      <td>1</td>\n",
       "      <td>0</td>\n",
       "    </tr>\n",
       "    <tr>\n",
       "      <th>12966</th>\n",
       "      <td>0.0</td>\n",
       "      <td>42.0</td>\n",
       "      <td>0.0</td>\n",
       "      <td>0.0</td>\n",
       "      <td>847.0</td>\n",
       "      <td>17.0</td>\n",
       "      <td>10.0</td>\n",
       "      <td>144.0</td>\n",
       "      <td>1.0</td>\n",
       "      <td>1.0</td>\n",
       "      <td>0.0</td>\n",
       "      <td>1018.0</td>\n",
       "      <td>2.0</td>\n",
       "      <td>5.0</td>\n",
       "      <td>7.0</td>\n",
       "      <td>...</td>\n",
       "      <td>0.0</td>\n",
       "      <td>0.0</td>\n",
       "      <td>0.0</td>\n",
       "      <td>0.0</td>\n",
       "      <td>0.0</td>\n",
       "      <td>0.0</td>\n",
       "      <td>0.0</td>\n",
       "      <td>1.0</td>\n",
       "      <td>1.0</td>\n",
       "      <td>0.0</td>\n",
       "      <td>0.0</td>\n",
       "      <td>0.0</td>\n",
       "      <td>0.0</td>\n",
       "      <td>1</td>\n",
       "      <td>0</td>\n",
       "    </tr>\n",
       "    <tr>\n",
       "      <th>12967</th>\n",
       "      <td>1.0</td>\n",
       "      <td>0.0</td>\n",
       "      <td>0.0</td>\n",
       "      <td>0.0</td>\n",
       "      <td>0.0</td>\n",
       "      <td>0.0</td>\n",
       "      <td>0.0</td>\n",
       "      <td>0.0</td>\n",
       "      <td>1.0</td>\n",
       "      <td>1.0</td>\n",
       "      <td>296.0</td>\n",
       "      <td>0.0</td>\n",
       "      <td>2.0</td>\n",
       "      <td>6.0</td>\n",
       "      <td>4.0</td>\n",
       "      <td>...</td>\n",
       "      <td>1.0</td>\n",
       "      <td>0.0</td>\n",
       "      <td>0.0</td>\n",
       "      <td>0.0</td>\n",
       "      <td>0.0</td>\n",
       "      <td>0.0</td>\n",
       "      <td>0.0</td>\n",
       "      <td>1.0</td>\n",
       "      <td>0.0</td>\n",
       "      <td>0.0</td>\n",
       "      <td>0.0</td>\n",
       "      <td>0.0</td>\n",
       "      <td>0.0</td>\n",
       "      <td>1</td>\n",
       "      <td>0</td>\n",
       "    </tr>\n",
       "    <tr>\n",
       "      <th>12968</th>\n",
       "      <td>0.0</td>\n",
       "      <td>0.0</td>\n",
       "      <td>0.0</td>\n",
       "      <td>0.0</td>\n",
       "      <td>2680.0</td>\n",
       "      <td>0.0</td>\n",
       "      <td>0.0</td>\n",
       "      <td>523.0</td>\n",
       "      <td>1.0</td>\n",
       "      <td>1.0</td>\n",
       "      <td>297.0</td>\n",
       "      <td>3203.0</td>\n",
       "      <td>2.0</td>\n",
       "      <td>7.0</td>\n",
       "      <td>6.0</td>\n",
       "      <td>...</td>\n",
       "      <td>1.0</td>\n",
       "      <td>0.0</td>\n",
       "      <td>0.0</td>\n",
       "      <td>0.0</td>\n",
       "      <td>0.0</td>\n",
       "      <td>0.0</td>\n",
       "      <td>0.0</td>\n",
       "      <td>1.0</td>\n",
       "      <td>0.0</td>\n",
       "      <td>0.0</td>\n",
       "      <td>0.0</td>\n",
       "      <td>0.0</td>\n",
       "      <td>0.0</td>\n",
       "      <td>1</td>\n",
       "      <td>0</td>\n",
       "    </tr>\n",
       "    <tr>\n",
       "      <th>12969</th>\n",
       "      <td>1.0</td>\n",
       "      <td>43.0</td>\n",
       "      <td>0.0</td>\n",
       "      <td>0.0</td>\n",
       "      <td>0.0</td>\n",
       "      <td>0.0</td>\n",
       "      <td>0.0</td>\n",
       "      <td>0.0</td>\n",
       "      <td>1.0</td>\n",
       "      <td>1.0</td>\n",
       "      <td>1498.0</td>\n",
       "      <td>0.0</td>\n",
       "      <td>2.0</td>\n",
       "      <td>6.0</td>\n",
       "      <td>9.0</td>\n",
       "      <td>...</td>\n",
       "      <td>0.0</td>\n",
       "      <td>0.0</td>\n",
       "      <td>0.0</td>\n",
       "      <td>0.0</td>\n",
       "      <td>0.0</td>\n",
       "      <td>0.0</td>\n",
       "      <td>0.0</td>\n",
       "      <td>1.0</td>\n",
       "      <td>0.0</td>\n",
       "      <td>0.0</td>\n",
       "      <td>0.0</td>\n",
       "      <td>0.0</td>\n",
       "      <td>0.0</td>\n",
       "      <td>1</td>\n",
       "      <td>0</td>\n",
       "    </tr>\n",
       "  </tbody>\n",
       "</table>\n",
       "<p>12970 rows × 43 columns</p>\n",
       "</div>"
      ],
      "text/plain": [
       "       CryoSleep   Age  VIP  RoomService  FoodCourt  ShoppingMall     Spa  \\\n",
       "0            0.0  39.0  0.0          0.0        0.0           0.0     0.0   \n",
       "1            0.0  24.0  0.0        109.0        9.0          25.0   549.0   \n",
       "2            0.0  58.0  1.0         43.0     3576.0           0.0  6715.0   \n",
       "3            0.0  33.0  0.0          0.0     1283.0         371.0  3329.0   \n",
       "4            0.0  16.0  0.0        303.0       70.0         151.0   565.0   \n",
       "...          ...   ...  ...          ...        ...           ...     ...   \n",
       "12965        1.0  34.0  0.0          0.0        0.0           0.0     0.0   \n",
       "12966        0.0  42.0  0.0          0.0      847.0          17.0    10.0   \n",
       "12967        1.0   0.0  0.0          0.0        0.0           0.0     0.0   \n",
       "12968        0.0   0.0  0.0          0.0     2680.0           0.0     0.0   \n",
       "12969        1.0  43.0  0.0          0.0        0.0           0.0     0.0   \n",
       "\n",
       "       VRDeck  GroupRank  GroupSize  Cabin_number  Total_purchases  \\\n",
       "0         0.0        1.0        1.0           0.0              0.0   \n",
       "1        44.0        1.0        1.0           0.0            736.0   \n",
       "2        49.0        1.0        2.0           0.0          10383.0   \n",
       "3       193.0        2.0        2.0           0.0           5176.0   \n",
       "4         2.0        1.0        1.0           1.0           1091.0   \n",
       "...       ...        ...        ...           ...              ...   \n",
       "12965     0.0        2.0        2.0        1496.0              0.0   \n",
       "12966   144.0        1.0        1.0           0.0           1018.0   \n",
       "12967     0.0        1.0        1.0         296.0              0.0   \n",
       "12968   523.0        1.0        1.0         297.0           3203.0   \n",
       "12969     0.0        1.0        1.0        1498.0              0.0   \n",
       "\n",
       "       Name_length  first_name_length  second_name_length  ...  Age_is_null  \\\n",
       "0              2.0                5.0                 9.0  ...          0.0   \n",
       "1              2.0                6.0                 5.0  ...          0.0   \n",
       "2              2.0                6.0                 6.0  ...          0.0   \n",
       "3              2.0                5.0                 6.0  ...          0.0   \n",
       "4              2.0                5.0                11.0  ...          0.0   \n",
       "...            ...                ...                 ...  ...          ...   \n",
       "12965          2.0                5.0                 5.0  ...          0.0   \n",
       "12966          2.0                5.0                 7.0  ...          0.0   \n",
       "12967          2.0                6.0                 4.0  ...          1.0   \n",
       "12968          2.0                7.0                 6.0  ...          1.0   \n",
       "12969          2.0                6.0                 9.0  ...          0.0   \n",
       "\n",
       "       VIP_is_null  RoomService_is_null  FoodCourt_is_null  \\\n",
       "0              0.0                  0.0                0.0   \n",
       "1              0.0                  0.0                0.0   \n",
       "2              0.0                  0.0                0.0   \n",
       "3              0.0                  0.0                0.0   \n",
       "4              0.0                  0.0                0.0   \n",
       "...            ...                  ...                ...   \n",
       "12965          0.0                  0.0                0.0   \n",
       "12966          0.0                  0.0                0.0   \n",
       "12967          0.0                  0.0                0.0   \n",
       "12968          0.0                  0.0                0.0   \n",
       "12969          0.0                  0.0                0.0   \n",
       "\n",
       "       ShoppingMall_is_null  Spa_is_null  VRDeck_is_null  Transported_is_null  \\\n",
       "0                       0.0          0.0             0.0                  0.0   \n",
       "1                       0.0          0.0             0.0                  0.0   \n",
       "2                       0.0          0.0             0.0                  0.0   \n",
       "3                       0.0          0.0             0.0                  0.0   \n",
       "4                       0.0          0.0             0.0                  0.0   \n",
       "...                     ...          ...             ...                  ...   \n",
       "12965                   0.0          0.0             0.0                  1.0   \n",
       "12966                   0.0          0.0             0.0                  1.0   \n",
       "12967                   0.0          0.0             0.0                  1.0   \n",
       "12968                   0.0          0.0             0.0                  1.0   \n",
       "12969                   0.0          0.0             0.0                  1.0   \n",
       "\n",
       "       Cabin_number_is_null  Total_purchases_is_null  Name_length_is_null  \\\n",
       "0                       0.0                      0.0                  0.0   \n",
       "1                       0.0                      0.0                  0.0   \n",
       "2                       0.0                      0.0                  0.0   \n",
       "3                       0.0                      0.0                  0.0   \n",
       "4                       0.0                      0.0                  0.0   \n",
       "...                     ...                      ...                  ...   \n",
       "12965                   0.0                      0.0                  0.0   \n",
       "12966                   1.0                      0.0                  0.0   \n",
       "12967                   0.0                      0.0                  0.0   \n",
       "12968                   0.0                      0.0                  0.0   \n",
       "12969                   0.0                      0.0                  0.0   \n",
       "\n",
       "       first_name_length_is_null  second_name_length_is_null  Transported_0.0  \\\n",
       "0                            0.0                         0.0                1   \n",
       "1                            0.0                         0.0                0   \n",
       "2                            0.0                         0.0                1   \n",
       "3                            0.0                         0.0                1   \n",
       "4                            0.0                         0.0                0   \n",
       "...                          ...                         ...              ...   \n",
       "12965                        0.0                         0.0                1   \n",
       "12966                        0.0                         0.0                1   \n",
       "12967                        0.0                         0.0                1   \n",
       "12968                        0.0                         0.0                1   \n",
       "12969                        0.0                         0.0                1   \n",
       "\n",
       "       Transported_1.0  \n",
       "0                    0  \n",
       "1                    1  \n",
       "2                    0  \n",
       "3                    0  \n",
       "4                    1  \n",
       "...                ...  \n",
       "12965                0  \n",
       "12966                0  \n",
       "12967                0  \n",
       "12968                0  \n",
       "12969                0  \n",
       "\n",
       "[12970 rows x 43 columns]"
      ]
     },
     "execution_count": 175,
     "metadata": {},
     "output_type": "execute_result"
    }
   ],
   "source": [
    "pd.get_dummies(logitdf, columns=['Transported'])"
   ]
  },
  {
   "cell_type": "code",
   "execution_count": 200,
   "id": "b3cb3c94",
   "metadata": {},
   "outputs": [],
   "source": [
    "y_train = pd.get_dummies(y_train)\n",
    "y_test = pd.get_dummies(y_test)"
   ]
  },
  {
   "cell_type": "code",
   "execution_count": 216,
   "id": "290b5bcf",
   "metadata": {},
   "outputs": [],
   "source": [
    "model = keras.Sequential()\n",
    "model.add(\n",
    "    keras.layers.Dense(\n",
    "        39, activation='relu'\n",
    "    )\n",
    ")\n",
    "model.add(\n",
    "    keras.layers.Dense(\n",
    "        39*2, activation='relu'\n",
    "    )\n",
    ")\n",
    "model.add(\n",
    "    keras.layers.Dense(\n",
    "        39, activation='relu'\n",
    "    )\n",
    ")\n",
    "model.add(\n",
    "    keras.layers.Dense(\n",
    "        2, activation = 'softmax'\n",
    "    )\n",
    ")\n",
    "keras.Sequential().compile()\n",
    "model.compile(\n",
    "    loss = 'categorical_crossentropy',\n",
    "    metrics = ['accuracy'],\n",
    "    optimizer=keras.optimizers.Adadelta()\n",
    ")"
   ]
  },
  {
   "cell_type": "code",
   "execution_count": 217,
   "id": "a4402b01",
   "metadata": {},
   "outputs": [],
   "source": [
    "\n",
    "history = model.fit(X_train,\n",
    "                        y_train,\n",
    "                        validation_data=(X_test, y_test),\n",
    "                        batch_size = 256,\n",
    "                        epochs = 30000,\n",
    "                        verbose = False\n",
    "                       )"
   ]
  },
  {
   "cell_type": "code",
   "execution_count": 218,
   "id": "8b685c06",
   "metadata": {},
   "outputs": [
    {
     "data": {
      "text/plain": [
       "(0.0, 10.0)"
      ]
     },
     "execution_count": 218,
     "metadata": {},
     "output_type": "execute_result"
    },
    {
     "data": {
      "image/png": "[encoded data removed]",
      "text/plain": [
       "<Figure size 432x288 with 1 Axes>"
      ]
     },
     "metadata": {},
     "output_type": "display_data"
    }
   ],
   "source": [
    "plt.plot(history.history['loss'])\n",
    "plt.plot(history.history['val_loss'])\n",
    "plt.ylim(0,10)"
   ]
  },
  {
   "cell_type": "code",
   "execution_count": 219,
   "id": "f5a0c13b",
   "metadata": {},
   "outputs": [
    {
     "name": "stdout",
     "output_type": "stream",
     "text": [
      "218/218 [==============================] - 0s 770us/step - loss: 0.3665 - accuracy: 0.8244\n",
      "55/55 [==============================] - 0s 831us/step - loss: 0.6932 - accuracy: 0.7516\n"
     ]
    },
    {
     "data": {
      "text/plain": [
       "([0.3665034770965576, 0.8244175910949707],\n",
       " [0.6931737661361694, 0.7515813708305359])"
      ]
     },
     "execution_count": 219,
     "metadata": {},
     "output_type": "execute_result"
    }
   ],
   "source": [
    "model.evaluate(X_train, y_train), model.evaluate(X_test, y_test)"
   ]
  },
  {
   "cell_type": "code",
   "execution_count": 224,
   "id": "70b317e6",
   "metadata": {},
   "outputs": [
    {
     "data": {
      "text/html": [
       "<div>\n",
       "<style scoped>\n",
       "    .dataframe tbody tr th:only-of-type {\n",
       "        vertical-align: middle;\n",
       "    }\n",
       "\n",
       "    .dataframe tbody tr th {\n",
       "        vertical-align: top;\n",
       "    }\n",
       "\n",
       "    .dataframe thead th {\n",
       "        text-align: right;\n",
       "    }\n",
       "</style>\n",
       "<table border=\"1\" class=\"dataframe\">\n",
       "  <thead>\n",
       "    <tr style=\"text-align: right;\">\n",
       "      <th></th>\n",
       "      <th>CryoSleep</th>\n",
       "      <th>Age</th>\n",
       "      <th>VIP</th>\n",
       "      <th>RoomService</th>\n",
       "      <th>FoodCourt</th>\n",
       "      <th>ShoppingMall</th>\n",
       "      <th>Spa</th>\n",
       "      <th>VRDeck</th>\n",
       "      <th>Transported</th>\n",
       "      <th>GroupRank</th>\n",
       "      <th>GroupSize</th>\n",
       "      <th>Cabin_number</th>\n",
       "      <th>Total_purchases</th>\n",
       "      <th>Name_length</th>\n",
       "      <th>first_name_length</th>\n",
       "      <th>...</th>\n",
       "      <th>Cabin_side_S</th>\n",
       "      <th>CryoSleep_is_null</th>\n",
       "      <th>Age_is_null</th>\n",
       "      <th>VIP_is_null</th>\n",
       "      <th>RoomService_is_null</th>\n",
       "      <th>FoodCourt_is_null</th>\n",
       "      <th>ShoppingMall_is_null</th>\n",
       "      <th>Spa_is_null</th>\n",
       "      <th>VRDeck_is_null</th>\n",
       "      <th>Transported_is_null</th>\n",
       "      <th>Cabin_number_is_null</th>\n",
       "      <th>Total_purchases_is_null</th>\n",
       "      <th>Name_length_is_null</th>\n",
       "      <th>first_name_length_is_null</th>\n",
       "      <th>second_name_length_is_null</th>\n",
       "    </tr>\n",
       "  </thead>\n",
       "  <tbody>\n",
       "    <tr>\n",
       "      <th>0</th>\n",
       "      <td>0.0</td>\n",
       "      <td>39.0</td>\n",
       "      <td>0.0</td>\n",
       "      <td>0.0</td>\n",
       "      <td>0.0</td>\n",
       "      <td>0.0</td>\n",
       "      <td>0.0</td>\n",
       "      <td>0.0</td>\n",
       "      <td>0.0</td>\n",
       "      <td>1.0</td>\n",
       "      <td>1.0</td>\n",
       "      <td>0.0</td>\n",
       "      <td>0.0</td>\n",
       "      <td>2.0</td>\n",
       "      <td>5.0</td>\n",
       "      <td>...</td>\n",
       "      <td>0.0</td>\n",
       "      <td>0.0</td>\n",
       "      <td>0.0</td>\n",
       "      <td>0.0</td>\n",
       "      <td>0.0</td>\n",
       "      <td>0.0</td>\n",
       "      <td>0.0</td>\n",
       "      <td>0.0</td>\n",
       "      <td>0.0</td>\n",
       "      <td>0.0</td>\n",
       "      <td>0.0</td>\n",
       "      <td>0.0</td>\n",
       "      <td>0.0</td>\n",
       "      <td>0.0</td>\n",
       "      <td>0.0</td>\n",
       "    </tr>\n",
       "    <tr>\n",
       "      <th>1</th>\n",
       "      <td>0.0</td>\n",
       "      <td>24.0</td>\n",
       "      <td>0.0</td>\n",
       "      <td>109.0</td>\n",
       "      <td>9.0</td>\n",
       "      <td>25.0</td>\n",
       "      <td>549.0</td>\n",
       "      <td>44.0</td>\n",
       "      <td>1.0</td>\n",
       "      <td>1.0</td>\n",
       "      <td>1.0</td>\n",
       "      <td>0.0</td>\n",
       "      <td>736.0</td>\n",
       "      <td>2.0</td>\n",
       "      <td>6.0</td>\n",
       "      <td>...</td>\n",
       "      <td>1.0</td>\n",
       "      <td>0.0</td>\n",
       "      <td>0.0</td>\n",
       "      <td>0.0</td>\n",
       "      <td>0.0</td>\n",
       "      <td>0.0</td>\n",
       "      <td>0.0</td>\n",
       "      <td>0.0</td>\n",
       "      <td>0.0</td>\n",
       "      <td>0.0</td>\n",
       "      <td>0.0</td>\n",
       "      <td>0.0</td>\n",
       "      <td>0.0</td>\n",
       "      <td>0.0</td>\n",
       "      <td>0.0</td>\n",
       "    </tr>\n",
       "    <tr>\n",
       "      <th>2</th>\n",
       "      <td>0.0</td>\n",
       "      <td>58.0</td>\n",
       "      <td>1.0</td>\n",
       "      <td>43.0</td>\n",
       "      <td>3576.0</td>\n",
       "      <td>0.0</td>\n",
       "      <td>6715.0</td>\n",
       "      <td>49.0</td>\n",
       "      <td>0.0</td>\n",
       "      <td>1.0</td>\n",
       "      <td>2.0</td>\n",
       "      <td>0.0</td>\n",
       "      <td>10383.0</td>\n",
       "      <td>2.0</td>\n",
       "      <td>6.0</td>\n",
       "      <td>...</td>\n",
       "      <td>1.0</td>\n",
       "      <td>0.0</td>\n",
       "      <td>0.0</td>\n",
       "      <td>0.0</td>\n",
       "      <td>0.0</td>\n",
       "      <td>0.0</td>\n",
       "      <td>0.0</td>\n",
       "      <td>0.0</td>\n",
       "      <td>0.0</td>\n",
       "      <td>0.0</td>\n",
       "      <td>0.0</td>\n",
       "      <td>0.0</td>\n",
       "      <td>0.0</td>\n",
       "      <td>0.0</td>\n",
       "      <td>0.0</td>\n",
       "    </tr>\n",
       "    <tr>\n",
       "      <th>3</th>\n",
       "      <td>0.0</td>\n",
       "      <td>33.0</td>\n",
       "      <td>0.0</td>\n",
       "      <td>0.0</td>\n",
       "      <td>1283.0</td>\n",
       "      <td>371.0</td>\n",
       "      <td>3329.0</td>\n",
       "      <td>193.0</td>\n",
       "      <td>0.0</td>\n",
       "      <td>2.0</td>\n",
       "      <td>2.0</td>\n",
       "      <td>0.0</td>\n",
       "      <td>5176.0</td>\n",
       "      <td>2.0</td>\n",
       "      <td>5.0</td>\n",
       "      <td>...</td>\n",
       "      <td>1.0</td>\n",
       "      <td>0.0</td>\n",
       "      <td>0.0</td>\n",
       "      <td>0.0</td>\n",
       "      <td>0.0</td>\n",
       "      <td>0.0</td>\n",
       "      <td>0.0</td>\n",
       "      <td>0.0</td>\n",
       "      <td>0.0</td>\n",
       "      <td>0.0</td>\n",
       "      <td>0.0</td>\n",
       "      <td>0.0</td>\n",
       "      <td>0.0</td>\n",
       "      <td>0.0</td>\n",
       "      <td>0.0</td>\n",
       "    </tr>\n",
       "    <tr>\n",
       "      <th>4</th>\n",
       "      <td>0.0</td>\n",
       "      <td>16.0</td>\n",
       "      <td>0.0</td>\n",
       "      <td>303.0</td>\n",
       "      <td>70.0</td>\n",
       "      <td>151.0</td>\n",
       "      <td>565.0</td>\n",
       "      <td>2.0</td>\n",
       "      <td>1.0</td>\n",
       "      <td>1.0</td>\n",
       "      <td>1.0</td>\n",
       "      <td>1.0</td>\n",
       "      <td>1091.0</td>\n",
       "      <td>2.0</td>\n",
       "      <td>5.0</td>\n",
       "      <td>...</td>\n",
       "      <td>1.0</td>\n",
       "      <td>0.0</td>\n",
       "      <td>0.0</td>\n",
       "      <td>0.0</td>\n",
       "      <td>0.0</td>\n",
       "      <td>0.0</td>\n",
       "      <td>0.0</td>\n",
       "      <td>0.0</td>\n",
       "      <td>0.0</td>\n",
       "      <td>0.0</td>\n",
       "      <td>0.0</td>\n",
       "      <td>0.0</td>\n",
       "      <td>0.0</td>\n",
       "      <td>0.0</td>\n",
       "      <td>0.0</td>\n",
       "    </tr>\n",
       "    <tr>\n",
       "      <th>...</th>\n",
       "      <td>...</td>\n",
       "      <td>...</td>\n",
       "      <td>...</td>\n",
       "      <td>...</td>\n",
       "      <td>...</td>\n",
       "      <td>...</td>\n",
       "      <td>...</td>\n",
       "      <td>...</td>\n",
       "      <td>...</td>\n",
       "      <td>...</td>\n",
       "      <td>...</td>\n",
       "      <td>...</td>\n",
       "      <td>...</td>\n",
       "      <td>...</td>\n",
       "      <td>...</td>\n",
       "      <td>...</td>\n",
       "      <td>...</td>\n",
       "      <td>...</td>\n",
       "      <td>...</td>\n",
       "      <td>...</td>\n",
       "      <td>...</td>\n",
       "      <td>...</td>\n",
       "      <td>...</td>\n",
       "      <td>...</td>\n",
       "      <td>...</td>\n",
       "      <td>...</td>\n",
       "      <td>...</td>\n",
       "      <td>...</td>\n",
       "      <td>...</td>\n",
       "      <td>...</td>\n",
       "      <td>...</td>\n",
       "    </tr>\n",
       "    <tr>\n",
       "      <th>12965</th>\n",
       "      <td>1.0</td>\n",
       "      <td>34.0</td>\n",
       "      <td>0.0</td>\n",
       "      <td>0.0</td>\n",
       "      <td>0.0</td>\n",
       "      <td>0.0</td>\n",
       "      <td>0.0</td>\n",
       "      <td>0.0</td>\n",
       "      <td>0.0</td>\n",
       "      <td>2.0</td>\n",
       "      <td>2.0</td>\n",
       "      <td>1496.0</td>\n",
       "      <td>0.0</td>\n",
       "      <td>2.0</td>\n",
       "      <td>5.0</td>\n",
       "      <td>...</td>\n",
       "      <td>1.0</td>\n",
       "      <td>0.0</td>\n",
       "      <td>0.0</td>\n",
       "      <td>0.0</td>\n",
       "      <td>0.0</td>\n",
       "      <td>0.0</td>\n",
       "      <td>0.0</td>\n",
       "      <td>0.0</td>\n",
       "      <td>0.0</td>\n",
       "      <td>1.0</td>\n",
       "      <td>0.0</td>\n",
       "      <td>0.0</td>\n",
       "      <td>0.0</td>\n",
       "      <td>0.0</td>\n",
       "      <td>0.0</td>\n",
       "    </tr>\n",
       "    <tr>\n",
       "      <th>12966</th>\n",
       "      <td>0.0</td>\n",
       "      <td>42.0</td>\n",
       "      <td>0.0</td>\n",
       "      <td>0.0</td>\n",
       "      <td>847.0</td>\n",
       "      <td>17.0</td>\n",
       "      <td>10.0</td>\n",
       "      <td>144.0</td>\n",
       "      <td>0.0</td>\n",
       "      <td>1.0</td>\n",
       "      <td>1.0</td>\n",
       "      <td>0.0</td>\n",
       "      <td>1018.0</td>\n",
       "      <td>2.0</td>\n",
       "      <td>5.0</td>\n",
       "      <td>...</td>\n",
       "      <td>0.0</td>\n",
       "      <td>0.0</td>\n",
       "      <td>0.0</td>\n",
       "      <td>0.0</td>\n",
       "      <td>0.0</td>\n",
       "      <td>0.0</td>\n",
       "      <td>0.0</td>\n",
       "      <td>0.0</td>\n",
       "      <td>0.0</td>\n",
       "      <td>1.0</td>\n",
       "      <td>1.0</td>\n",
       "      <td>0.0</td>\n",
       "      <td>0.0</td>\n",
       "      <td>0.0</td>\n",
       "      <td>0.0</td>\n",
       "    </tr>\n",
       "    <tr>\n",
       "      <th>12967</th>\n",
       "      <td>1.0</td>\n",
       "      <td>0.0</td>\n",
       "      <td>0.0</td>\n",
       "      <td>0.0</td>\n",
       "      <td>0.0</td>\n",
       "      <td>0.0</td>\n",
       "      <td>0.0</td>\n",
       "      <td>0.0</td>\n",
       "      <td>0.0</td>\n",
       "      <td>1.0</td>\n",
       "      <td>1.0</td>\n",
       "      <td>296.0</td>\n",
       "      <td>0.0</td>\n",
       "      <td>2.0</td>\n",
       "      <td>6.0</td>\n",
       "      <td>...</td>\n",
       "      <td>0.0</td>\n",
       "      <td>0.0</td>\n",
       "      <td>1.0</td>\n",
       "      <td>0.0</td>\n",
       "      <td>0.0</td>\n",
       "      <td>0.0</td>\n",
       "      <td>0.0</td>\n",
       "      <td>0.0</td>\n",
       "      <td>0.0</td>\n",
       "      <td>1.0</td>\n",
       "      <td>0.0</td>\n",
       "      <td>0.0</td>\n",
       "      <td>0.0</td>\n",
       "      <td>0.0</td>\n",
       "      <td>0.0</td>\n",
       "    </tr>\n",
       "    <tr>\n",
       "      <th>12968</th>\n",
       "      <td>0.0</td>\n",
       "      <td>0.0</td>\n",
       "      <td>0.0</td>\n",
       "      <td>0.0</td>\n",
       "      <td>2680.0</td>\n",
       "      <td>0.0</td>\n",
       "      <td>0.0</td>\n",
       "      <td>523.0</td>\n",
       "      <td>0.0</td>\n",
       "      <td>1.0</td>\n",
       "      <td>1.0</td>\n",
       "      <td>297.0</td>\n",
       "      <td>3203.0</td>\n",
       "      <td>2.0</td>\n",
       "      <td>7.0</td>\n",
       "      <td>...</td>\n",
       "      <td>0.0</td>\n",
       "      <td>0.0</td>\n",
       "      <td>1.0</td>\n",
       "      <td>0.0</td>\n",
       "      <td>0.0</td>\n",
       "      <td>0.0</td>\n",
       "      <td>0.0</td>\n",
       "      <td>0.0</td>\n",
       "      <td>0.0</td>\n",
       "      <td>1.0</td>\n",
       "      <td>0.0</td>\n",
       "      <td>0.0</td>\n",
       "      <td>0.0</td>\n",
       "      <td>0.0</td>\n",
       "      <td>0.0</td>\n",
       "    </tr>\n",
       "    <tr>\n",
       "      <th>12969</th>\n",
       "      <td>1.0</td>\n",
       "      <td>43.0</td>\n",
       "      <td>0.0</td>\n",
       "      <td>0.0</td>\n",
       "      <td>0.0</td>\n",
       "      <td>0.0</td>\n",
       "      <td>0.0</td>\n",
       "      <td>0.0</td>\n",
       "      <td>0.0</td>\n",
       "      <td>1.0</td>\n",
       "      <td>1.0</td>\n",
       "      <td>1498.0</td>\n",
       "      <td>0.0</td>\n",
       "      <td>2.0</td>\n",
       "      <td>6.0</td>\n",
       "      <td>...</td>\n",
       "      <td>1.0</td>\n",
       "      <td>0.0</td>\n",
       "      <td>0.0</td>\n",
       "      <td>0.0</td>\n",
       "      <td>0.0</td>\n",
       "      <td>0.0</td>\n",
       "      <td>0.0</td>\n",
       "      <td>0.0</td>\n",
       "      <td>0.0</td>\n",
       "      <td>1.0</td>\n",
       "      <td>0.0</td>\n",
       "      <td>0.0</td>\n",
       "      <td>0.0</td>\n",
       "      <td>0.0</td>\n",
       "      <td>0.0</td>\n",
       "    </tr>\n",
       "  </tbody>\n",
       "</table>\n",
       "<p>12970 rows × 42 columns</p>\n",
       "</div>"
      ],
      "text/plain": [
       "       CryoSleep   Age  VIP  RoomService  FoodCourt  ShoppingMall     Spa  \\\n",
       "0            0.0  39.0  0.0          0.0        0.0           0.0     0.0   \n",
       "1            0.0  24.0  0.0        109.0        9.0          25.0   549.0   \n",
       "2            0.0  58.0  1.0         43.0     3576.0           0.0  6715.0   \n",
       "3            0.0  33.0  0.0          0.0     1283.0         371.0  3329.0   \n",
       "4            0.0  16.0  0.0        303.0       70.0         151.0   565.0   \n",
       "...          ...   ...  ...          ...        ...           ...     ...   \n",
       "12965        1.0  34.0  0.0          0.0        0.0           0.0     0.0   \n",
       "12966        0.0  42.0  0.0          0.0      847.0          17.0    10.0   \n",
       "12967        1.0   0.0  0.0          0.0        0.0           0.0     0.0   \n",
       "12968        0.0   0.0  0.0          0.0     2680.0           0.0     0.0   \n",
       "12969        1.0  43.0  0.0          0.0        0.0           0.0     0.0   \n",
       "\n",
       "       VRDeck  Transported  GroupRank  GroupSize  Cabin_number  \\\n",
       "0         0.0          0.0        1.0        1.0           0.0   \n",
       "1        44.0          1.0        1.0        1.0           0.0   \n",
       "2        49.0          0.0        1.0        2.0           0.0   \n",
       "3       193.0          0.0        2.0        2.0           0.0   \n",
       "4         2.0          1.0        1.0        1.0           1.0   \n",
       "...       ...          ...        ...        ...           ...   \n",
       "12965     0.0          0.0        2.0        2.0        1496.0   \n",
       "12966   144.0          0.0        1.0        1.0           0.0   \n",
       "12967     0.0          0.0        1.0        1.0         296.0   \n",
       "12968   523.0          0.0        1.0        1.0         297.0   \n",
       "12969     0.0          0.0        1.0        1.0        1498.0   \n",
       "\n",
       "       Total_purchases  Name_length  first_name_length  ...  Cabin_side_S  \\\n",
       "0                  0.0          2.0                5.0  ...           0.0   \n",
       "1                736.0          2.0                6.0  ...           1.0   \n",
       "2              10383.0          2.0                6.0  ...           1.0   \n",
       "3               5176.0          2.0                5.0  ...           1.0   \n",
       "4               1091.0          2.0                5.0  ...           1.0   \n",
       "...                ...          ...                ...  ...           ...   \n",
       "12965              0.0          2.0                5.0  ...           1.0   \n",
       "12966           1018.0          2.0                5.0  ...           0.0   \n",
       "12967              0.0          2.0                6.0  ...           0.0   \n",
       "12968           3203.0          2.0                7.0  ...           0.0   \n",
       "12969              0.0          2.0                6.0  ...           1.0   \n",
       "\n",
       "       CryoSleep_is_null  Age_is_null  VIP_is_null  RoomService_is_null  \\\n",
       "0                    0.0          0.0          0.0                  0.0   \n",
       "1                    0.0          0.0          0.0                  0.0   \n",
       "2                    0.0          0.0          0.0                  0.0   \n",
       "3                    0.0          0.0          0.0                  0.0   \n",
       "4                    0.0          0.0          0.0                  0.0   \n",
       "...                  ...          ...          ...                  ...   \n",
       "12965                0.0          0.0          0.0                  0.0   \n",
       "12966                0.0          0.0          0.0                  0.0   \n",
       "12967                0.0          1.0          0.0                  0.0   \n",
       "12968                0.0          1.0          0.0                  0.0   \n",
       "12969                0.0          0.0          0.0                  0.0   \n",
       "\n",
       "       FoodCourt_is_null  ShoppingMall_is_null  Spa_is_null  VRDeck_is_null  \\\n",
       "0                    0.0                   0.0          0.0             0.0   \n",
       "1                    0.0                   0.0          0.0             0.0   \n",
       "2                    0.0                   0.0          0.0             0.0   \n",
       "3                    0.0                   0.0          0.0             0.0   \n",
       "4                    0.0                   0.0          0.0             0.0   \n",
       "...                  ...                   ...          ...             ...   \n",
       "12965                0.0                   0.0          0.0             0.0   \n",
       "12966                0.0                   0.0          0.0             0.0   \n",
       "12967                0.0                   0.0          0.0             0.0   \n",
       "12968                0.0                   0.0          0.0             0.0   \n",
       "12969                0.0                   0.0          0.0             0.0   \n",
       "\n",
       "       Transported_is_null  Cabin_number_is_null  Total_purchases_is_null  \\\n",
       "0                      0.0                   0.0                      0.0   \n",
       "1                      0.0                   0.0                      0.0   \n",
       "2                      0.0                   0.0                      0.0   \n",
       "3                      0.0                   0.0                      0.0   \n",
       "4                      0.0                   0.0                      0.0   \n",
       "...                    ...                   ...                      ...   \n",
       "12965                  1.0                   0.0                      0.0   \n",
       "12966                  1.0                   1.0                      0.0   \n",
       "12967                  1.0                   0.0                      0.0   \n",
       "12968                  1.0                   0.0                      0.0   \n",
       "12969                  1.0                   0.0                      0.0   \n",
       "\n",
       "       Name_length_is_null  first_name_length_is_null  \\\n",
       "0                      0.0                        0.0   \n",
       "1                      0.0                        0.0   \n",
       "2                      0.0                        0.0   \n",
       "3                      0.0                        0.0   \n",
       "4                      0.0                        0.0   \n",
       "...                    ...                        ...   \n",
       "12965                  0.0                        0.0   \n",
       "12966                  0.0                        0.0   \n",
       "12967                  0.0                        0.0   \n",
       "12968                  0.0                        0.0   \n",
       "12969                  0.0                        0.0   \n",
       "\n",
       "       second_name_length_is_null  \n",
       "0                             0.0  \n",
       "1                             0.0  \n",
       "2                             0.0  \n",
       "3                             0.0  \n",
       "4                             0.0  \n",
       "...                           ...  \n",
       "12965                         0.0  \n",
       "12966                         0.0  \n",
       "12967                         0.0  \n",
       "12968                         0.0  \n",
       "12969                         0.0  \n",
       "\n",
       "[12970 rows x 42 columns]"
      ]
     },
     "execution_count": 224,
     "metadata": {},
     "output_type": "execute_result"
    }
   ],
   "source": [
    "logitdf"
   ]
  },
  {
   "cell_type": "code",
   "execution_count": null,
   "id": "898fa022",
   "metadata": {},
   "outputs": [],
   "source": [
    "model.predict()"
   ]
  },
  {
   "cell_type": "markdown",
   "id": "31988a50",
   "metadata": {},
   "source": [
    "# Identically process just the submission data"
   ]
  },
  {
   "cell_type": "code",
   "execution_count": 380,
   "id": "f171dae9",
   "metadata": {},
   "outputs": [],
   "source": [
    "# do all ids adhere to the format gggg_pp\n",
    "df_test['PassengerId_format_ok'] = df_test['PassengerId'].apply(lambda this_id: int(this_id[:4]) < 10000 and int(this_id[-2:]) < 100 and this_id[4] == '_')"
   ]
  },
  {
   "cell_type": "code",
   "execution_count": 381,
   "id": "012d1812",
   "metadata": {},
   "outputs": [],
   "source": [
    "#make column for passenger group\n",
    "df_test['Group'] = df_test['PassengerId'].apply(lambda this_id: int(this_id[:4]))"
   ]
  },
  {
   "cell_type": "code",
   "execution_count": 382,
   "id": "1ee7754a",
   "metadata": {},
   "outputs": [],
   "source": [
    "#make column for passenger number in group\n",
    "df_test['GroupRank'] = df_test['PassengerId'].apply(lambda this_id: this_id[-2:])"
   ]
  },
  {
   "cell_type": "code",
   "execution_count": 383,
   "id": "b66fa8e0",
   "metadata": {},
   "outputs": [],
   "source": [
    "#make grouprank a number\n",
    "df_test['GroupRank'] = df_test['GroupRank'].apply(lambda this_rank: int(this_rank))\n",
    "\n",
    "\n",
    "df_test['GroupSize'] = df_test['Group'].apply(lambda this_group: int(group_value_counts[this_group]) )"
   ]
  },
  {
   "cell_type": "code",
   "execution_count": 384,
   "id": "fb137c6b",
   "metadata": {},
   "outputs": [],
   "source": [
    "df_test['Cabin_deck'] = df_test['Cabin'].apply(lambda this_cabin: this_cabin.split('/')[0] if type(this_cabin) == str else np.nan)\n",
    "df_test['Cabin_number'] = df_test['Cabin'].apply(lambda this_cabin: int(this_cabin.split('/')[1]) if type(this_cabin) == str else np.nan)\n",
    "df_test['Cabin_side'] = df_test['Cabin'].apply(lambda this_cabin: this_cabin.split('/')[2] if type(this_cabin) == str else np.nan)"
   ]
  },
  {
   "cell_type": "code",
   "execution_count": 385,
   "id": "52ea6f4d",
   "metadata": {},
   "outputs": [],
   "source": [
    "# make a new column\n",
    "df_test['Total_purchases'] = df_test['RoomService'] + df_test['FoodCourt'] + df_test['ShoppingMall'] + df_test['Spa'] + df_test['VRDeck']"
   ]
  },
  {
   "cell_type": "code",
   "execution_count": 386,
   "id": "214df18e",
   "metadata": {
    "scrolled": true
   },
   "outputs": [],
   "source": [
    "df_test['Name_length'] = df_test['Name'].apply(lambda this_name: len(this_name.split()) if type(this_name) == str else np.nan)"
   ]
  },
  {
   "cell_type": "code",
   "execution_count": 387,
   "id": "6a2f1c16",
   "metadata": {},
   "outputs": [],
   "source": [
    "df_test['first_name'] = df_test['Name'].apply(lambda this_name: this_name.split()[0] if type(this_name) == str else np.nan)\n",
    "df_test['second_name'] = df_test['Name'].apply(lambda this_name: this_name.split()[1] if type(this_name) == str else np.nan)\n",
    "\n",
    "df_test['first_name_length'] = df_test['first_name'].apply(lambda this_name: len(this_name) if type(this_name) ==  str else np.nan)\n",
    "df_test['second_name_length'] = df_test['second_name'].apply(lambda this_name: len(this_name) if type(this_name) == str else np.nan)"
   ]
  },
  {
   "cell_type": "code",
   "execution_count": 388,
   "id": "045f3e49",
   "metadata": {},
   "outputs": [],
   "source": [
    "logitdf_test = pd.get_dummies(df_test, columns = ['Destination', 'HomePlanet','Cabin_deck', 'Cabin_side'], drop_first = True).drop(columns = ['PassengerId', 'Cabin', 'Name', 'first_name', 'second_name', 'PassengerId_format_ok', 'Group'])"
   ]
  },
  {
   "cell_type": "code",
   "execution_count": 389,
   "id": "5dcd571c",
   "metadata": {
    "scrolled": false
   },
   "outputs": [
    {
     "name": "stdout",
     "output_type": "stream",
     "text": [
      "<class 'pandas.core.frame.DataFrame'>\n",
      "Index: 4277 entries, 0013_01 to 9277_01\n",
      "Data columns (total 27 columns):\n",
      " #   Column                     Non-Null Count  Dtype  \n",
      "---  ------                     --------------  -----  \n",
      " 0   CryoSleep                  4184 non-null   object \n",
      " 1   Age                        4186 non-null   float64\n",
      " 2   VIP                        4184 non-null   object \n",
      " 3   RoomService                4195 non-null   float64\n",
      " 4   FoodCourt                  4171 non-null   float64\n",
      " 5   ShoppingMall               4179 non-null   float64\n",
      " 6   Spa                        4176 non-null   float64\n",
      " 7   VRDeck                     4197 non-null   float64\n",
      " 8   GroupRank                  4277 non-null   int64  \n",
      " 9   GroupSize                  4277 non-null   int64  \n",
      " 10  Cabin_number               4177 non-null   float64\n",
      " 11  Total_purchases            3822 non-null   float64\n",
      " 12  Name_length                4183 non-null   float64\n",
      " 13  first_name_length          4183 non-null   float64\n",
      " 14  second_name_length         4183 non-null   float64\n",
      " 15  Destination_PSO J318.5-22  4277 non-null   uint8  \n",
      " 16  Destination_TRAPPIST-1e    4277 non-null   uint8  \n",
      " 17  HomePlanet_Europa          4277 non-null   uint8  \n",
      " 18  HomePlanet_Mars            4277 non-null   uint8  \n",
      " 19  Cabin_deck_B               4277 non-null   uint8  \n",
      " 20  Cabin_deck_C               4277 non-null   uint8  \n",
      " 21  Cabin_deck_D               4277 non-null   uint8  \n",
      " 22  Cabin_deck_E               4277 non-null   uint8  \n",
      " 23  Cabin_deck_F               4277 non-null   uint8  \n",
      " 24  Cabin_deck_G               4277 non-null   uint8  \n",
      " 25  Cabin_deck_T               4277 non-null   uint8  \n",
      " 26  Cabin_side_S               4277 non-null   uint8  \n",
      "dtypes: float64(11), int64(2), object(2), uint8(12)\n",
      "memory usage: 584.7+ KB\n"
     ]
    }
   ],
   "source": [
    "logitdf_test.info()"
   ]
  },
  {
   "cell_type": "code",
   "execution_count": 390,
   "id": "d14c4f74",
   "metadata": {},
   "outputs": [
    {
     "name": "stdout",
     "output_type": "stream",
     "text": [
      "<class 'pandas.core.frame.DataFrame'>\n",
      "RangeIndex: 12970 entries, 0 to 12969\n",
      "Data columns (total 41 columns):\n",
      " #   Column                      Non-Null Count  Dtype  \n",
      "---  ------                      --------------  -----  \n",
      " 0   CryoSleep                   12970 non-null  float32\n",
      " 1   Age                         12970 non-null  float32\n",
      " 2   VIP                         12970 non-null  float32\n",
      " 3   RoomService                 12970 non-null  float32\n",
      " 4   FoodCourt                   12970 non-null  float32\n",
      " 5   ShoppingMall                12970 non-null  float32\n",
      " 6   Spa                         12970 non-null  float32\n",
      " 7   VRDeck                      12970 non-null  float32\n",
      " 8   GroupRank                   12970 non-null  float32\n",
      " 9   GroupSize                   12970 non-null  float32\n",
      " 10  Cabin_number                12970 non-null  float32\n",
      " 11  Total_purchases             12970 non-null  float32\n",
      " 12  Name_length                 12970 non-null  float32\n",
      " 13  first_name_length           12970 non-null  float32\n",
      " 14  second_name_length          12970 non-null  float32\n",
      " 15  Destination_PSO J318.5-22   12970 non-null  float32\n",
      " 16  Destination_TRAPPIST-1e     12970 non-null  float32\n",
      " 17  HomePlanet_Europa           12970 non-null  float32\n",
      " 18  HomePlanet_Mars             12970 non-null  float32\n",
      " 19  Cabin_deck_B                12970 non-null  float32\n",
      " 20  Cabin_deck_C                12970 non-null  float32\n",
      " 21  Cabin_deck_D                12970 non-null  float32\n",
      " 22  Cabin_deck_E                12970 non-null  float32\n",
      " 23  Cabin_deck_F                12970 non-null  float32\n",
      " 24  Cabin_deck_G                12970 non-null  float32\n",
      " 25  Cabin_deck_T                12970 non-null  float32\n",
      " 26  Cabin_side_S                12970 non-null  float32\n",
      " 27  CryoSleep_is_null           12970 non-null  float32\n",
      " 28  Age_is_null                 12970 non-null  float32\n",
      " 29  VIP_is_null                 12970 non-null  float32\n",
      " 30  RoomService_is_null         12970 non-null  float32\n",
      " 31  FoodCourt_is_null           12970 non-null  float32\n",
      " 32  ShoppingMall_is_null        12970 non-null  float32\n",
      " 33  Spa_is_null                 12970 non-null  float32\n",
      " 34  VRDeck_is_null              12970 non-null  float32\n",
      " 35  Transported_is_null         12970 non-null  float32\n",
      " 36  Cabin_number_is_null        12970 non-null  float32\n",
      " 37  Total_purchases_is_null     12970 non-null  float32\n",
      " 38  Name_length_is_null         12970 non-null  float32\n",
      " 39  first_name_length_is_null   12970 non-null  float32\n",
      " 40  second_name_length_is_null  12970 non-null  float32\n",
      "dtypes: float32(41)\n",
      "memory usage: 2.0 MB\n"
     ]
    }
   ],
   "source": [
    "logitdf.info()"
   ]
  },
  {
   "cell_type": "code",
   "execution_count": 391,
   "id": "e15bb581",
   "metadata": {
    "scrolled": false
   },
   "outputs": [
    {
     "data": {
      "text/plain": [
       "['CryoSleep_is_null',\n",
       " 'Age_is_null',\n",
       " 'VIP_is_null',\n",
       " 'RoomService_is_null',\n",
       " 'FoodCourt_is_null',\n",
       " 'ShoppingMall_is_null',\n",
       " 'Spa_is_null',\n",
       " 'VRDeck_is_null',\n",
       " 'Cabin_number_is_null',\n",
       " 'Total_purchases_is_null',\n",
       " 'Name_length_is_null',\n",
       " 'first_name_length_is_null',\n",
       " 'second_name_length_is_null']"
      ]
     },
     "execution_count": 391,
     "metadata": {},
     "output_type": "execute_result"
    }
   ],
   "source": [
    "null_columns = [column for column in logitdf.columns if column[-8:] == '_is_null' and column[:4] != 'Tran']\n",
    "null_columns"
   ]
  },
  {
   "cell_type": "code",
   "execution_count": 392,
   "id": "378ebc19",
   "metadata": {},
   "outputs": [],
   "source": [
    "for column in null_columns:\n",
    "    logitdf_test[column] = logitdf_test[column[:-8]].isna()\n",
    "    "
   ]
  },
  {
   "cell_type": "code",
   "execution_count": 393,
   "id": "d95b9f6c",
   "metadata": {},
   "outputs": [],
   "source": [
    "logitdf_test = logitdf_test.astype('float32')\n",
    "logitdf_test.fillna(0, inplace=True)"
   ]
  },
  {
   "cell_type": "code",
   "execution_count": 394,
   "id": "3f1aac23",
   "metadata": {},
   "outputs": [
    {
     "name": "stdout",
     "output_type": "stream",
     "text": [
      "<class 'pandas.core.frame.DataFrame'>\n",
      "Index: 4277 entries, 0013_01 to 9277_01\n",
      "Data columns (total 40 columns):\n",
      " #   Column                      Non-Null Count  Dtype  \n",
      "---  ------                      --------------  -----  \n",
      " 0   CryoSleep                   4277 non-null   float32\n",
      " 1   Age                         4277 non-null   float32\n",
      " 2   VIP                         4277 non-null   float32\n",
      " 3   RoomService                 4277 non-null   float32\n",
      " 4   FoodCourt                   4277 non-null   float32\n",
      " 5   ShoppingMall                4277 non-null   float32\n",
      " 6   Spa                         4277 non-null   float32\n",
      " 7   VRDeck                      4277 non-null   float32\n",
      " 8   GroupRank                   4277 non-null   float32\n",
      " 9   GroupSize                   4277 non-null   float32\n",
      " 10  Cabin_number                4277 non-null   float32\n",
      " 11  Total_purchases             4277 non-null   float32\n",
      " 12  Name_length                 4277 non-null   float32\n",
      " 13  first_name_length           4277 non-null   float32\n",
      " 14  second_name_length          4277 non-null   float32\n",
      " 15  Destination_PSO J318.5-22   4277 non-null   float32\n",
      " 16  Destination_TRAPPIST-1e     4277 non-null   float32\n",
      " 17  HomePlanet_Europa           4277 non-null   float32\n",
      " 18  HomePlanet_Mars             4277 non-null   float32\n",
      " 19  Cabin_deck_B                4277 non-null   float32\n",
      " 20  Cabin_deck_C                4277 non-null   float32\n",
      " 21  Cabin_deck_D                4277 non-null   float32\n",
      " 22  Cabin_deck_E                4277 non-null   float32\n",
      " 23  Cabin_deck_F                4277 non-null   float32\n",
      " 24  Cabin_deck_G                4277 non-null   float32\n",
      " 25  Cabin_deck_T                4277 non-null   float32\n",
      " 26  Cabin_side_S                4277 non-null   float32\n",
      " 27  CryoSleep_is_null           4277 non-null   float32\n",
      " 28  Age_is_null                 4277 non-null   float32\n",
      " 29  VIP_is_null                 4277 non-null   float32\n",
      " 30  RoomService_is_null         4277 non-null   float32\n",
      " 31  FoodCourt_is_null           4277 non-null   float32\n",
      " 32  ShoppingMall_is_null        4277 non-null   float32\n",
      " 33  Spa_is_null                 4277 non-null   float32\n",
      " 34  VRDeck_is_null              4277 non-null   float32\n",
      " 35  Cabin_number_is_null        4277 non-null   float32\n",
      " 36  Total_purchases_is_null     4277 non-null   float32\n",
      " 37  Name_length_is_null         4277 non-null   float32\n",
      " 38  first_name_length_is_null   4277 non-null   float32\n",
      " 39  second_name_length_is_null  4277 non-null   float32\n",
      "dtypes: float32(40)\n",
      "memory usage: 701.7+ KB\n"
     ]
    }
   ],
   "source": [
    "logitdf_test.info()"
   ]
  },
  {
   "cell_type": "code",
   "execution_count": 395,
   "id": "aa6979ae",
   "metadata": {},
   "outputs": [],
   "source": [
    "logitdf = logitdf[X_train.columns]"
   ]
  },
  {
   "cell_type": "code",
   "execution_count": 396,
   "id": "f8b83e44",
   "metadata": {},
   "outputs": [
    {
     "data": {
      "text/plain": [
       "[('CryoSleep', 'CryoSleep'),\n",
       " ('Age', 'Age'),\n",
       " ('VIP', 'VIP'),\n",
       " ('RoomService', 'RoomService'),\n",
       " ('FoodCourt', 'FoodCourt'),\n",
       " ('ShoppingMall', 'ShoppingMall'),\n",
       " ('Spa', 'Spa'),\n",
       " ('VRDeck', 'VRDeck'),\n",
       " ('GroupRank', 'GroupRank'),\n",
       " ('GroupSize', 'GroupSize'),\n",
       " ('Cabin_number', 'Cabin_number'),\n",
       " ('Total_purchases', 'Total_purchases'),\n",
       " ('Name_length', 'Name_length'),\n",
       " ('first_name_length', 'first_name_length'),\n",
       " ('second_name_length', 'second_name_length'),\n",
       " ('Destination_PSO J318.5-22', 'Destination_PSO J318.5-22'),\n",
       " ('Destination_TRAPPIST-1e', 'Destination_TRAPPIST-1e'),\n",
       " ('HomePlanet_Europa', 'HomePlanet_Europa'),\n",
       " ('HomePlanet_Mars', 'HomePlanet_Mars'),\n",
       " ('Cabin_deck_B', 'Cabin_deck_B'),\n",
       " ('Cabin_deck_C', 'Cabin_deck_C'),\n",
       " ('Cabin_deck_D', 'Cabin_deck_D'),\n",
       " ('Cabin_deck_E', 'Cabin_deck_E'),\n",
       " ('Cabin_deck_F', 'Cabin_deck_F'),\n",
       " ('Cabin_deck_G', 'Cabin_deck_G'),\n",
       " ('Cabin_deck_T', 'Cabin_deck_T'),\n",
       " ('Cabin_side_S', 'Cabin_side_S'),\n",
       " ('CryoSleep_is_null', 'CryoSleep_is_null'),\n",
       " ('Age_is_null', 'Age_is_null'),\n",
       " ('VIP_is_null', 'VIP_is_null'),\n",
       " ('RoomService_is_null', 'RoomService_is_null'),\n",
       " ('FoodCourt_is_null', 'FoodCourt_is_null'),\n",
       " ('ShoppingMall_is_null', 'ShoppingMall_is_null'),\n",
       " ('Spa_is_null', 'Spa_is_null'),\n",
       " ('VRDeck_is_null', 'VRDeck_is_null'),\n",
       " ('Transported_is_null', 'Cabin_number_is_null'),\n",
       " ('Cabin_number_is_null', 'Total_purchases_is_null'),\n",
       " ('Total_purchases_is_null', 'Name_length_is_null'),\n",
       " ('Name_length_is_null', 'first_name_length_is_null'),\n",
       " ('first_name_length_is_null', 'second_name_length_is_null')]"
      ]
     },
     "execution_count": 396,
     "metadata": {},
     "output_type": "execute_result"
    }
   ],
   "source": [
    "list(zip(X_train.columns, logitdf_test.columns))"
   ]
  },
  {
   "cell_type": "code",
   "execution_count": 397,
   "id": "c494c107",
   "metadata": {},
   "outputs": [],
   "source": [
    "logitdf_test['Transported_is_null'] = 0"
   ]
  },
  {
   "cell_type": "code",
   "execution_count": 398,
   "id": "506b4777",
   "metadata": {},
   "outputs": [],
   "source": [
    "logitdf_test = logitdf_test[X_train.columns]"
   ]
  },
  {
   "cell_type": "code",
   "execution_count": 399,
   "id": "8c6bcbdb",
   "metadata": {},
   "outputs": [
    {
     "data": {
      "text/plain": [
       "[('CryoSleep', 'CryoSleep'),\n",
       " ('Age', 'Age'),\n",
       " ('VIP', 'VIP'),\n",
       " ('RoomService', 'RoomService'),\n",
       " ('FoodCourt', 'FoodCourt'),\n",
       " ('ShoppingMall', 'ShoppingMall'),\n",
       " ('Spa', 'Spa'),\n",
       " ('VRDeck', 'VRDeck'),\n",
       " ('GroupRank', 'GroupRank'),\n",
       " ('GroupSize', 'GroupSize'),\n",
       " ('Cabin_number', 'Cabin_number'),\n",
       " ('Total_purchases', 'Total_purchases'),\n",
       " ('Name_length', 'Name_length'),\n",
       " ('first_name_length', 'first_name_length'),\n",
       " ('second_name_length', 'second_name_length'),\n",
       " ('Destination_PSO J318.5-22', 'Destination_PSO J318.5-22'),\n",
       " ('Destination_TRAPPIST-1e', 'Destination_TRAPPIST-1e'),\n",
       " ('HomePlanet_Europa', 'HomePlanet_Europa'),\n",
       " ('HomePlanet_Mars', 'HomePlanet_Mars'),\n",
       " ('Cabin_deck_B', 'Cabin_deck_B'),\n",
       " ('Cabin_deck_C', 'Cabin_deck_C'),\n",
       " ('Cabin_deck_D', 'Cabin_deck_D'),\n",
       " ('Cabin_deck_E', 'Cabin_deck_E'),\n",
       " ('Cabin_deck_F', 'Cabin_deck_F'),\n",
       " ('Cabin_deck_G', 'Cabin_deck_G'),\n",
       " ('Cabin_deck_T', 'Cabin_deck_T'),\n",
       " ('Cabin_side_S', 'Cabin_side_S'),\n",
       " ('CryoSleep_is_null', 'CryoSleep_is_null'),\n",
       " ('Age_is_null', 'Age_is_null'),\n",
       " ('VIP_is_null', 'VIP_is_null'),\n",
       " ('RoomService_is_null', 'RoomService_is_null'),\n",
       " ('FoodCourt_is_null', 'FoodCourt_is_null'),\n",
       " ('ShoppingMall_is_null', 'ShoppingMall_is_null'),\n",
       " ('Spa_is_null', 'Spa_is_null'),\n",
       " ('VRDeck_is_null', 'VRDeck_is_null'),\n",
       " ('Transported_is_null', 'Transported_is_null'),\n",
       " ('Cabin_number_is_null', 'Cabin_number_is_null'),\n",
       " ('Total_purchases_is_null', 'Total_purchases_is_null'),\n",
       " ('Name_length_is_null', 'Name_length_is_null'),\n",
       " ('first_name_length_is_null', 'first_name_length_is_null'),\n",
       " ('second_name_length_is_null', 'second_name_length_is_null')]"
      ]
     },
     "execution_count": 399,
     "metadata": {},
     "output_type": "execute_result"
    }
   ],
   "source": [
    "list(zip(X_train.columns, logitdf_test.columns))"
   ]
  },
  {
   "cell_type": "code",
   "execution_count": 401,
   "id": "65bb5886",
   "metadata": {},
   "outputs": [
    {
     "name": "stdout",
     "output_type": "stream",
     "text": [
      "134/134 [==============================] - 0s 589us/step\n"
     ]
    }
   ],
   "source": [
    "test_preds = model.predict(logitdf_test)"
   ]
  },
  {
   "cell_type": "code",
   "execution_count": 411,
   "id": "04d12607",
   "metadata": {},
   "outputs": [],
   "source": [
    "test_preds = list(map(lambda x: np.argmax(x), test_preds))"
   ]
  },
  {
   "cell_type": "code",
   "execution_count": 412,
   "id": "ca21edbe",
   "metadata": {},
   "outputs": [
    {
     "data": {
      "text/html": [
       "<div>\n",
       "<style scoped>\n",
       "    .dataframe tbody tr th:only-of-type {\n",
       "        vertical-align: middle;\n",
       "    }\n",
       "\n",
       "    .dataframe tbody tr th {\n",
       "        vertical-align: top;\n",
       "    }\n",
       "\n",
       "    .dataframe thead th {\n",
       "        text-align: right;\n",
       "    }\n",
       "</style>\n",
       "<table border=\"1\" class=\"dataframe\">\n",
       "  <thead>\n",
       "    <tr style=\"text-align: right;\">\n",
       "      <th></th>\n",
       "      <th>Transported</th>\n",
       "    </tr>\n",
       "    <tr>\n",
       "      <th>PassengerId</th>\n",
       "      <th></th>\n",
       "    </tr>\n",
       "  </thead>\n",
       "  <tbody>\n",
       "    <tr>\n",
       "      <th>0013_01</th>\n",
       "      <td>1</td>\n",
       "    </tr>\n",
       "    <tr>\n",
       "      <th>0018_01</th>\n",
       "      <td>0</td>\n",
       "    </tr>\n",
       "    <tr>\n",
       "      <th>0019_01</th>\n",
       "      <td>1</td>\n",
       "    </tr>\n",
       "    <tr>\n",
       "      <th>0021_01</th>\n",
       "      <td>1</td>\n",
       "    </tr>\n",
       "    <tr>\n",
       "      <th>0023_01</th>\n",
       "      <td>1</td>\n",
       "    </tr>\n",
       "    <tr>\n",
       "      <th>...</th>\n",
       "      <td>...</td>\n",
       "    </tr>\n",
       "    <tr>\n",
       "      <th>9266_02</th>\n",
       "      <td>1</td>\n",
       "    </tr>\n",
       "    <tr>\n",
       "      <th>9269_01</th>\n",
       "      <td>0</td>\n",
       "    </tr>\n",
       "    <tr>\n",
       "      <th>9271_01</th>\n",
       "      <td>1</td>\n",
       "    </tr>\n",
       "    <tr>\n",
       "      <th>9273_01</th>\n",
       "      <td>0</td>\n",
       "    </tr>\n",
       "    <tr>\n",
       "      <th>9277_01</th>\n",
       "      <td>1</td>\n",
       "    </tr>\n",
       "  </tbody>\n",
       "</table>\n",
       "<p>4277 rows × 1 columns</p>\n",
       "</div>"
      ],
      "text/plain": [
       "             Transported\n",
       "PassengerId             \n",
       "0013_01                1\n",
       "0018_01                0\n",
       "0019_01                1\n",
       "0021_01                1\n",
       "0023_01                1\n",
       "...                  ...\n",
       "9266_02                1\n",
       "9269_01                0\n",
       "9271_01                1\n",
       "9273_01                0\n",
       "9277_01                1\n",
       "\n",
       "[4277 rows x 1 columns]"
      ]
     },
     "execution_count": 412,
     "metadata": {},
     "output_type": "execute_result"
    }
   ],
   "source": [
    "submission = pd.DataFrame(test_preds, index=logitdf_test.index, columns = ['Transported'])\n",
    "submission"
   ]
  },
  {
   "cell_type": "code",
   "execution_count": 421,
   "id": "7184f3bf",
   "metadata": {},
   "outputs": [],
   "source": [
    "submission = submission.astype(bool)"
   ]
  },
  {
   "cell_type": "code",
   "execution_count": 422,
   "id": "34761a32",
   "metadata": {},
   "outputs": [],
   "source": [
    "submission.to_csv('submission.csv')"
   ]
  },
  {
   "cell_type": "markdown",
   "id": "0f607c69",
   "metadata": {},
   "source": [
    "## NN, but don't overfit"
   ]
  },
  {
   "cell_type": "code",
   "execution_count": 424,
   "id": "1f1a28bf",
   "metadata": {},
   "outputs": [],
   "source": [
    "callback = keras.callbacks.EarlyStopping(patience = 5)\n",
    "\n",
    "history = model.fit(X_train,\n",
    "                        y_train,\n",
    "                        validation_data=(X_test, y_test),\n",
    "                        batch_size = 256,\n",
    "                        epochs = 30000,\n",
    "                        verbose = False,\n",
    "                        callbacks = [callback]\n",
    "                       )"
   ]
  },
  {
   "cell_type": "code",
   "execution_count": 433,
   "id": "4f701f87",
   "metadata": {},
   "outputs": [
    {
     "name": "stdout",
     "output_type": "stream",
     "text": [
      "134/134 [==============================] - 0s 612us/step\n"
     ]
    }
   ],
   "source": [
    "test_preds2 = model.predict(logitdf_test)"
   ]
  },
  {
   "cell_type": "code",
   "execution_count": 434,
   "id": "536fb863",
   "metadata": {},
   "outputs": [],
   "source": [
    "test_preds2 = list(map(lambda x: np.argmax(x), test_preds2))"
   ]
  },
  {
   "cell_type": "code",
   "execution_count": 435,
   "id": "1e9edfd1",
   "metadata": {},
   "outputs": [
    {
     "data": {
      "text/html": [
       "<div>\n",
       "<style scoped>\n",
       "    .dataframe tbody tr th:only-of-type {\n",
       "        vertical-align: middle;\n",
       "    }\n",
       "\n",
       "    .dataframe tbody tr th {\n",
       "        vertical-align: top;\n",
       "    }\n",
       "\n",
       "    .dataframe thead th {\n",
       "        text-align: right;\n",
       "    }\n",
       "</style>\n",
       "<table border=\"1\" class=\"dataframe\">\n",
       "  <thead>\n",
       "    <tr style=\"text-align: right;\">\n",
       "      <th></th>\n",
       "      <th>Transported</th>\n",
       "    </tr>\n",
       "    <tr>\n",
       "      <th>PassengerId</th>\n",
       "      <th></th>\n",
       "    </tr>\n",
       "  </thead>\n",
       "  <tbody>\n",
       "    <tr>\n",
       "      <th>0013_01</th>\n",
       "      <td>True</td>\n",
       "    </tr>\n",
       "    <tr>\n",
       "      <th>0018_01</th>\n",
       "      <td>False</td>\n",
       "    </tr>\n",
       "    <tr>\n",
       "      <th>0019_01</th>\n",
       "      <td>True</td>\n",
       "    </tr>\n",
       "    <tr>\n",
       "      <th>0021_01</th>\n",
       "      <td>True</td>\n",
       "    </tr>\n",
       "    <tr>\n",
       "      <th>0023_01</th>\n",
       "      <td>True</td>\n",
       "    </tr>\n",
       "    <tr>\n",
       "      <th>...</th>\n",
       "      <td>...</td>\n",
       "    </tr>\n",
       "    <tr>\n",
       "      <th>9266_02</th>\n",
       "      <td>True</td>\n",
       "    </tr>\n",
       "    <tr>\n",
       "      <th>9269_01</th>\n",
       "      <td>False</td>\n",
       "    </tr>\n",
       "    <tr>\n",
       "      <th>9271_01</th>\n",
       "      <td>True</td>\n",
       "    </tr>\n",
       "    <tr>\n",
       "      <th>9273_01</th>\n",
       "      <td>False</td>\n",
       "    </tr>\n",
       "    <tr>\n",
       "      <th>9277_01</th>\n",
       "      <td>True</td>\n",
       "    </tr>\n",
       "  </tbody>\n",
       "</table>\n",
       "<p>4277 rows × 1 columns</p>\n",
       "</div>"
      ],
      "text/plain": [
       "             Transported\n",
       "PassengerId             \n",
       "0013_01             True\n",
       "0018_01            False\n",
       "0019_01             True\n",
       "0021_01             True\n",
       "0023_01             True\n",
       "...                  ...\n",
       "9266_02             True\n",
       "9269_01            False\n",
       "9271_01             True\n",
       "9273_01            False\n",
       "9277_01             True\n",
       "\n",
       "[4277 rows x 1 columns]"
      ]
     },
     "execution_count": 435,
     "metadata": {},
     "output_type": "execute_result"
    }
   ],
   "source": [
    "submission2 = pd.DataFrame(test_preds2, index=logitdf_test.index, columns = ['Transported'])\n",
    "submission2 = submission2.astype(bool)\n",
    "submission2"
   ]
  },
  {
   "cell_type": "code",
   "execution_count": 436,
   "id": "a9472ea3",
   "metadata": {},
   "outputs": [],
   "source": [
    "submission2.to_csv('submission2.csv')"
   ]
  },
  {
   "cell_type": "code",
   "execution_count": null,
   "id": "dcf9194e",
   "metadata": {},
   "outputs": [],
   "source": []
  }
 ],
 "metadata": {
  "kernelspec": {
   "display_name": "Python 3 (ipykernel)",
   "language": "python",
   "name": "python3"
  },
  "language_info": {
   "codemirror_mode": {
    "name": "ipython",
    "version": 3
   },
   "file_extension": ".py",
   "mimetype": "text/x-python",
   "name": "python",
   "nbconvert_exporter": "python",
   "pygments_lexer": "ipython3",
   "version": "3.9.7"
  }
 },
 "nbformat": 4,
 "nbformat_minor": 5
}
